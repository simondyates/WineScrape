{
 "cells": [
  {
   "cell_type": "markdown",
   "metadata": {},
   "source": [
    "## Exploring Data Scraped From wine.com"
   ]
  },
  {
   "cell_type": "code",
   "execution_count": 11,
   "metadata": {},
   "outputs": [],
   "source": [
    "import pandas as pd\n",
    "import numpy as np\n",
    "import seaborn as sns\n",
    "import matplotlib.pyplot as plt\n",
    "import plotly.express as px\n",
    "import plotly.graph_objects as go\n",
    "from ipywidgets import widgets, interact\n",
    "\n",
    "wine = pd.read_csv('wdc_cleaned.csv')"
   ]
  },
  {
   "cell_type": "code",
   "execution_count": 12,
   "metadata": {},
   "outputs": [
    {
     "name": "stdout",
     "output_type": "stream",
     "text": [
      "Overall shape of the review database: (10247, 13)\n"
     ]
    }
   ],
   "source": [
    "print(f'Overall shape of the review database: {wine.shape}')"
   ]
  },
  {
   "cell_type": "markdown",
   "metadata": {},
   "source": [
    "### How many wines and vintages?"
   ]
  },
  {
   "cell_type": "code",
   "execution_count": 13,
   "metadata": {},
   "outputs": [
    {
     "name": "stdout",
     "output_type": "stream",
     "text": [
      "2743 different wines\n",
      "31 vintages from 1969 to 2019\n",
      "3459 different wine/vintage pairs\n",
      "68% of the wines on the site had pro reviews\n",
      "Average rating is 94.10\n",
      "Average price is $89.99\n"
     ]
    }
   ],
   "source": [
    "wine_names = set(wine['name'].values)\n",
    "print(f'{len(wine_names)} different wines')\n",
    "vintages = set(wine['vintage'].values) - {0}  # we encode non vintage as 0\n",
    "print(f'{len(vintages)} vintages from {min(vintages)} to {max(vintages)}')\n",
    "w_v_pairs = set(wine['nameyear'].values)\n",
    "print(f'{len(w_v_pairs)} different wine/vintage pairs')\n",
    "# there are 5,089 SKUs on the site that I scraped, but I only took those with pro reviews\n",
    "print(f'{len(w_v_pairs)/5089:.0%} of the wines on the site had pro reviews')\n",
    "print('Average rating is {0:.2f}'.format(wine['rating'].mean()))\n",
    "\n",
    "# We want average price of the wines but not weighted by number of reviews\n",
    "wine_uniq = wine.sort_values(by='nameyear')\n",
    "wine_uniq['duplicate'] = (wine_uniq['nameyear'] == wine_uniq['nameyear'].shift())\n",
    "# duplicates happen because the same wine has multiple ratings\n",
    "wine_uniq = wine_uniq[~wine_uniq['duplicate']]\n",
    "print('Average price is ${0:.2f}'.format(wine_uniq['price_per_750'].median()))\n"
   ]
  },
  {
   "cell_type": "markdown",
   "metadata": {},
   "source": [
    "### What do we have for Origin?"
   ]
  },
  {
   "cell_type": "code",
   "execution_count": 14,
   "metadata": {},
   "outputs": [
    {
     "name": "stdout",
     "output_type": "stream",
     "text": [
      "90 pairs of Country/Region\n"
     ]
    }
   ],
   "source": [
    "# How many pairs of country/subregion do we have?\n",
    "pairs = []\n",
    "for idx in wine.index:\n",
    "    # null values means vector operations don't return the results we need\n",
    "    if type(wine.loc[idx, 'subregion'])==float:\n",
    "        pairs.append(wine.loc[idx, 'country'])\n",
    "    else:\n",
    "        pairs.append(wine.loc[idx, 'country'] + ', ' + wine.loc[idx, 'subregion'])\n",
    "pairs_dict = {s: pairs.count(s) for s in set(pairs)}\n",
    "pairs_dict = {k: v for k, v in sorted(pairs_dict.items(), key=lambda item: item[1], reverse=True)}\n",
    "print(f'{len(pairs_dict)} pairs of Country/Region')\n",
    "# seems manageable"
   ]
  },
  {
   "cell_type": "markdown",
   "metadata": {},
   "source": [
    "### What does the price data look like?"
   ]
  },
  {
   "cell_type": "code",
   "execution_count": 15,
   "metadata": {},
   "outputs": [
    {
     "name": "stdout",
     "output_type": "stream",
     "text": [
      "Cheapest wine is Dominio de Eguren Protocolo Tinto 2017 at $8.99 per bottle\n",
      "Most expensive wine is Chateau Petrus 2015 at $4,999.98 per bottle\n"
     ]
    }
   ],
   "source": [
    "# Let's check the prices\n",
    "cheap_px = min(wine[\"price_per_750\"].values)\n",
    "cheap_nm = wine[wine['price_per_750']==cheap_px]['nameyear'].iloc[0]\n",
    "print(f'Cheapest wine is {cheap_nm} at ${cheap_px:.2f} per bottle')\n",
    "\n",
    "high_px = max(wine[\"price_per_750\"].values)\n",
    "high_nm = wine[wine['price_per_750']==high_px]['nameyear'].iloc[0]\n",
    "print(f'Most expensive wine is {high_nm} at ${high_px:,.2f} per bottle')"
   ]
  },
  {
   "cell_type": "markdown",
   "metadata": {},
   "source": [
    "### How do the raters look?"
   ]
  },
  {
   "cell_type": "code",
   "execution_count": 16,
   "metadata": {
    "scrolled": true
   },
   "outputs": [
    {
     "name": "stdout",
     "output_type": "stream",
     "text": [
      "Index(['Robert Parker', 'James Suckling', 'Wine Spectator', 'Wine Enthusiast',\n",
      "       'Jeb Dunnuck', 'Decanter', 'Vinous', 'Wine & Spirits', 'wine.com',\n",
      "       'Burghound.com', 'Tim Atkin', 'Tasting Panel', 'Conn Guide', 'IWC'],\n",
      "      dtype='object', name='rater')\n"
     ]
    },
    {
     "data": {
      "image/png": "[encoded data removed]",
      "text/plain": [
       "<Figure size 432x288 with 1 Axes>"
      ]
     },
     "metadata": {
      "needs_background": "light"
     },
     "output_type": "display_data"
    }
   ],
   "source": [
    "group_df = wine.groupby('rater').agg({'name': 'count', 'rating': 'min'})\\\n",
    "                .sort_values(by='name', ascending = False)\\\n",
    "                .rename({'name': 'count', 'rating':'min_rating'}, axis='columns')\n",
    "print(group_df.index)\n",
    "# Let's get rid of everybody below Burghound.  (I want to keep him because he's great for Burgundy)\n",
    "keepers = group_df.index[:-4]\n",
    "wine = wine[wine['rater'].isin(keepers)]\n",
    "n_rats = [f'{s:,.0f}' for s in group_df['count'].to_list()[:-4]]\n",
    "\n",
    "# Find the order\n",
    "order_idx = wine.groupby('rater').count().sort_values(by='name', ascending=False).index.to_list()\n",
    "ax1 = sns.boxplot(x='rater', y='rating', data=wine, order=order_idx, color='skyblue', whis=100)\n",
    "# whis=100 disables outlier categorisation in seaborn\n",
    "ax1.set_xticklabels(ax1.get_xticklabels(), rotation=55, horizontalalignment='right')\n",
    "ax1.set_title(\"Rating Distributions\")\n",
    "\n",
    "# Put counts inside the boxes\n",
    "pos = range(len(n_rats))\n",
    "medians = [wine[wine['rater']==s]['rating'].median() for s in order_idx]\n",
    "\n",
    "for tick,label in zip(pos,ax1.get_xticklabels()):\n",
    "    ax1.text(pos[tick], medians[tick] + .5, n_rats[tick],\n",
    "    horizontalalignment='center', size='x-small', color='b', weight='semibold')\n",
    "\n",
    "plt.show()\n",
    "\n",
    "# wine.com probably doesn't try to sell very low rated wines."
   ]
  },
  {
   "cell_type": "markdown",
   "metadata": {},
   "source": [
    "### Comparing Price vs. Rating"
   ]
  },
  {
   "cell_type": "code",
   "execution_count": 17,
   "metadata": {},
   "outputs": [
    {
     "data": {
      "application/vnd.jupyter.widget-view+json": {
       "model_id": "da87baf3450d497d9adc8033476a3ac1",
       "version_major": 2,
       "version_minor": 0
      },
      "text/plain": [
       "interactive(children=(Dropdown(description='Country', options=('All', 'Argentina', 'Australia', 'Austria', 'Ch…"
      ]
     },
     "metadata": {},
     "output_type": "display_data"
    },
    {
     "data": {
      "text/plain": [
       "<function __main__.plot_px_vs_rating(ctry, subr)>"
      ]
     },
     "execution_count": 17,
     "metadata": {},
     "output_type": "execute_result"
    }
   ],
   "source": [
    "# First, let's remove outliers.  I'm not interested in wine for > $500\n",
    "# Then let's nomalize the ratings\n",
    "wine = wine[wine['price_per_750']<=500]\n",
    "wine['rating'] = wine['rating'] - wine['rating'].mean()\n",
    "\n",
    "# 'subregion' has strings and NaNs.  I want to find unique subregions OTHER than NaNs\n",
    "def subregion_list(ctry):\n",
    "    temp_s = wine[wine['country']==ctry]['subregion']\n",
    "    temp_s = temp_s[~temp_s.isnull()]\n",
    "    return temp_s.unique().tolist()\n",
    "\n",
    "def plot_px_vs_rating(ctry, subr):\n",
    "    if ctry == 'All':\n",
    "        wine_sub = wine\n",
    "    else:\n",
    "        if subr == 'All':\n",
    "            wine_sub = wine[wine['country']==ctry]\n",
    "        else:\n",
    "            wine_sub = wine[(wine['country']==ctry) & (wine['subregion']==subr)]\n",
    "    ax2 = px.scatter(wine_sub, x='price_per_750', y='rating', color = 'rater', hover_data = ['nameyear'], trendline=\"ols\")\n",
    "   # ax2.update_layout(xaxis_type=\"log\") - not required since we have the $500 cutoff\n",
    "    ax2.show()\n",
    "\n",
    "    \n",
    "ctry_list =['All'] + wine['country'].sort_values().unique().tolist()\n",
    "reg_list = ['All']\n",
    "\n",
    "ctr_widg = widgets.Dropdown(options=ctry_list, value='All', description='Country',\n",
    "    disabled=False)\n",
    "reg_widg = widgets.Dropdown(options=reg_list, value='All', description='Sub-Region',\n",
    "    disabled=False)\n",
    "\n",
    "def update_subr(ctry):\n",
    "    if ctry['new'] == 'All':\n",
    "        reg_widg.options = ['All']\n",
    "    else:\n",
    "        reg_widg.options = ['All'] + subregion_list(ctry['new'])\n",
    "\n",
    "        \n",
    "ctr_widg.observe(update_subr, 'value')\n",
    "interact(plot_px_vs_rating, ctry=ctr_widg, subr=reg_widg)"
   ]
  },
  {
   "cell_type": "markdown",
   "metadata": {},
   "source": [
    "### Comparing Vintage vs. Rating"
   ]
  },
  {
   "cell_type": "code",
   "execution_count": 18,
   "metadata": {},
   "outputs": [
    {
     "data": {
      "application/vnd.plotly.v1+json": {
       "config": {
        "plotlyServerURL": "https://plot.ly"
       },
       "data": [
        {
         "hovertemplate": "x=%{x}<br>y=%{y}<br>count=%{marker.size}<extra></extra>",
         "legendgroup": "",
         "marker": {
          "color": "#636efa",
          "size": [
           2,
           1,
           1,
           1,
           1,
           1,
           1,
           1,
           1,
           1,
           1,
           1,
           3,
           1,
           1,
           2,
           4,
           1,
           1,
           2,
           1,
           2,
           2,
           3,
           3,
           6,
           2,
           1,
           1,
           1,
           7,
           2,
           4,
           6,
           2,
           6,
           1,
           1,
           1,
           1,
           3,
           4,
           4,
           3,
           10,
           6,
           2,
           2,
           1,
           1,
           2,
           1,
           2,
           4,
           1,
           1,
           1,
           5,
           4,
           3,
           3,
           6,
           3,
           9,
           1,
           2,
           4,
           1,
           4,
           8,
           7,
           2,
           11,
           4,
           2,
           4,
           7,
           5,
           7,
           11,
           8,
           14,
           10,
           5,
           4,
           2,
           5,
           2,
           9,
           18,
           13,
           10,
           3,
           4,
           1,
           2,
           1,
           2,
           3,
           12,
           8,
           9,
           6,
           3,
           1,
           3,
           5,
           4,
           10,
           11,
           10,
           11,
           12,
           5,
           14,
           4,
           7,
           9,
           8,
           10,
           28,
           15,
           19,
           18,
           15,
           16,
           5,
           8,
           10,
           9,
           10,
           17,
           19,
           20,
           16,
           12,
           17,
           3,
           8,
           10,
           15,
           32,
           45,
           30,
           19,
           8,
           8,
           2,
           4,
           18,
           27,
           38,
           35,
           43,
           33,
           22,
           16,
           7,
           3,
           2,
           32,
           38,
           78,
           85,
           86,
           53,
           25,
           19,
           14,
           3,
           4,
           1,
           63,
           66,
           83,
           118,
           126,
           81,
           42,
           58,
           23,
           12,
           4,
           1,
           88,
           91,
           159,
           190,
           168,
           165,
           115,
           90,
           63,
           27,
           28,
           5,
           167,
           161,
           239,
           296,
           234,
           196,
           197,
           165,
           149,
           52,
           70,
           1,
           11,
           157,
           228,
           327,
           338,
           292,
           227,
           162,
           90,
           49,
           14,
           10,
           3,
           15,
           87,
           110,
           126,
           141,
           176,
           113,
           133,
           101,
           123,
           92,
           55,
           5,
           18,
           4,
           1,
           3
          ],
          "sizemode": "area",
          "sizeref": 0.845,
          "symbol": "circle"
         },
         "mode": "markers",
         "name": "",
         "showlegend": false,
         "type": "scatter",
         "x": [
          1995,
          1995,
          1995,
          1995,
          1995,
          1995,
          1996,
          1996,
          1997,
          1997,
          1997,
          1997,
          1997,
          1997,
          1998,
          1998,
          1998,
          1998,
          1998,
          1998,
          1998,
          1998,
          1999,
          1999,
          1999,
          1999,
          1999,
          1999,
          1999,
          1999,
          2000,
          2000,
          2000,
          2000,
          2000,
          2000,
          2000,
          2000,
          2000,
          2000,
          2001,
          2001,
          2001,
          2001,
          2001,
          2001,
          2001,
          2001,
          2002,
          2002,
          2002,
          2002,
          2002,
          2002,
          2002,
          2002,
          2002,
          2003,
          2003,
          2003,
          2003,
          2003,
          2003,
          2003,
          2003,
          2003,
          2004,
          2004,
          2004,
          2004,
          2004,
          2004,
          2004,
          2004,
          2004,
          2005,
          2005,
          2005,
          2005,
          2005,
          2005,
          2005,
          2005,
          2005,
          2005,
          2005,
          2006,
          2006,
          2006,
          2006,
          2006,
          2006,
          2006,
          2006,
          2006,
          2006,
          2007,
          2007,
          2007,
          2007,
          2007,
          2007,
          2007,
          2007,
          2007,
          2007,
          2008,
          2008,
          2008,
          2008,
          2008,
          2008,
          2008,
          2008,
          2008,
          2008,
          2008,
          2009,
          2009,
          2009,
          2009,
          2009,
          2009,
          2009,
          2009,
          2009,
          2009,
          2009,
          2010,
          2010,
          2010,
          2010,
          2010,
          2010,
          2010,
          2010,
          2010,
          2010,
          2010,
          2011,
          2011,
          2011,
          2011,
          2011,
          2011,
          2011,
          2011,
          2011,
          2011,
          2012,
          2012,
          2012,
          2012,
          2012,
          2012,
          2012,
          2012,
          2012,
          2012,
          2012,
          2013,
          2013,
          2013,
          2013,
          2013,
          2013,
          2013,
          2013,
          2013,
          2013,
          2013,
          2014,
          2014,
          2014,
          2014,
          2014,
          2014,
          2014,
          2014,
          2014,
          2014,
          2014,
          2014,
          2015,
          2015,
          2015,
          2015,
          2015,
          2015,
          2015,
          2015,
          2015,
          2015,
          2015,
          2015,
          2016,
          2016,
          2016,
          2016,
          2016,
          2016,
          2016,
          2016,
          2016,
          2016,
          2016,
          2016,
          2017,
          2017,
          2017,
          2017,
          2017,
          2017,
          2017,
          2017,
          2017,
          2017,
          2017,
          2017,
          2017,
          2018,
          2018,
          2018,
          2018,
          2018,
          2018,
          2018,
          2018,
          2018,
          2018,
          2018,
          2018,
          2018,
          2019,
          2019,
          2019,
          2019,
          2019
         ],
         "xaxis": "x",
         "y": [
          -3.8518235422581313,
          -0.8518235422581313,
          0.14817645774186872,
          1.1481764577418687,
          2.1481764577418687,
          3.1481764577418687,
          -2.8518235422581313,
          3.1481764577418687,
          -2.8518235422581313,
          0.14817645774186872,
          2.1481764577418687,
          3.1481764577418687,
          4.148176457741869,
          5.148176457741869,
          -3.8518235422581313,
          -2.8518235422581313,
          -1.8518235422581313,
          -0.8518235422581313,
          0.14817645774186872,
          1.1481764577418687,
          2.1481764577418687,
          4.148176457741869,
          -3.8518235422581313,
          -2.8518235422581313,
          -0.8518235422581313,
          0.14817645774186872,
          1.1481764577418687,
          2.1481764577418687,
          3.1481764577418687,
          5.148176457741869,
          -3.8518235422581313,
          -2.8518235422581313,
          -1.8518235422581313,
          -0.8518235422581313,
          0.14817645774186872,
          1.1481764577418687,
          2.1481764577418687,
          3.1481764577418687,
          4.148176457741869,
          5.148176457741869,
          -3.8518235422581313,
          -1.8518235422581313,
          -0.8518235422581313,
          0.14817645774186872,
          1.1481764577418687,
          2.1481764577418687,
          3.1481764577418687,
          5.148176457741869,
          -2.8518235422581313,
          -1.8518235422581313,
          -0.8518235422581313,
          0.14817645774186872,
          1.1481764577418687,
          2.1481764577418687,
          3.1481764577418687,
          4.148176457741869,
          6.148176457741869,
          -3.8518235422581313,
          -2.8518235422581313,
          -1.8518235422581313,
          -0.8518235422581313,
          0.14817645774186872,
          1.1481764577418687,
          2.1481764577418687,
          3.1481764577418687,
          4.148176457741869,
          -3.8518235422581313,
          -2.8518235422581313,
          -0.8518235422581313,
          0.14817645774186872,
          1.1481764577418687,
          2.1481764577418687,
          3.1481764577418687,
          4.148176457741869,
          5.148176457741869,
          -3.8518235422581313,
          -2.8518235422581313,
          -1.8518235422581313,
          -0.8518235422581313,
          0.14817645774186872,
          1.1481764577418687,
          2.1481764577418687,
          3.1481764577418687,
          4.148176457741869,
          5.148176457741869,
          6.148176457741869,
          -3.8518235422581313,
          -2.8518235422581313,
          -1.8518235422581313,
          -0.8518235422581313,
          0.14817645774186872,
          1.1481764577418687,
          2.1481764577418687,
          3.1481764577418687,
          4.148176457741869,
          6.148176457741869,
          -3.8518235422581313,
          -2.8518235422581313,
          -1.8518235422581313,
          -0.8518235422581313,
          0.14817645774186872,
          1.1481764577418687,
          2.1481764577418687,
          3.1481764577418687,
          4.148176457741869,
          5.148176457741869,
          -3.8518235422581313,
          -2.8518235422581313,
          -1.8518235422581313,
          -0.8518235422581313,
          0.14817645774186872,
          1.1481764577418687,
          2.1481764577418687,
          3.1481764577418687,
          4.148176457741869,
          5.148176457741869,
          6.148176457741869,
          -3.8518235422581313,
          -2.8518235422581313,
          -1.8518235422581313,
          -0.8518235422581313,
          0.14817645774186872,
          1.1481764577418687,
          2.1481764577418687,
          3.1481764577418687,
          4.148176457741869,
          5.148176457741869,
          6.148176457741869,
          -3.8518235422581313,
          -2.8518235422581313,
          -1.8518235422581313,
          -0.8518235422581313,
          0.14817645774186872,
          1.1481764577418687,
          2.1481764577418687,
          3.1481764577418687,
          4.148176457741869,
          5.148176457741869,
          6.148176457741869,
          -3.8518235422581313,
          -2.8518235422581313,
          -1.8518235422581313,
          -0.8518235422581313,
          0.14817645774186872,
          1.1481764577418687,
          2.1481764577418687,
          3.1481764577418687,
          4.148176457741869,
          5.148176457741869,
          -3.8518235422581313,
          -2.8518235422581313,
          -1.8518235422581313,
          -0.8518235422581313,
          0.14817645774186872,
          1.1481764577418687,
          2.1481764577418687,
          3.1481764577418687,
          4.148176457741869,
          5.148176457741869,
          6.148176457741869,
          -3.8518235422581313,
          -2.8518235422581313,
          -1.8518235422581313,
          -0.8518235422581313,
          0.14817645774186872,
          1.1481764577418687,
          2.1481764577418687,
          3.1481764577418687,
          4.148176457741869,
          5.148176457741869,
          6.148176457741869,
          -4.851823542258131,
          -3.8518235422581313,
          -2.8518235422581313,
          -1.8518235422581313,
          -0.8518235422581313,
          0.14817645774186872,
          1.1481764577418687,
          2.1481764577418687,
          3.1481764577418687,
          4.148176457741869,
          5.148176457741869,
          6.148176457741869,
          -5.851823542258131,
          -3.8518235422581313,
          -2.8518235422581313,
          -1.8518235422581313,
          -0.8518235422581313,
          0.14817645774186872,
          1.1481764577418687,
          2.1481764577418687,
          3.1481764577418687,
          4.148176457741869,
          5.148176457741869,
          6.148176457741869,
          -4.851823542258131,
          -3.8518235422581313,
          -2.8518235422581313,
          -1.8518235422581313,
          -0.8518235422581313,
          0.14817645774186872,
          1.1481764577418687,
          2.1481764577418687,
          3.1481764577418687,
          4.148176457741869,
          5.148176457741869,
          6.148176457741869,
          -6.851823542258131,
          -4.851823542258131,
          -3.8518235422581313,
          -2.8518235422581313,
          -1.8518235422581313,
          -0.8518235422581313,
          0.14817645774186872,
          1.1481764577418687,
          2.1481764577418687,
          3.1481764577418687,
          4.148176457741869,
          5.148176457741869,
          6.148176457741869,
          -5.851823542258131,
          -4.851823542258131,
          -3.8518235422581313,
          -2.8518235422581313,
          -1.8518235422581313,
          -0.8518235422581313,
          0.14817645774186872,
          1.1481764577418687,
          2.1481764577418687,
          3.1481764577418687,
          4.148176457741869,
          5.148176457741869,
          6.148176457741869,
          -4.851823542258131,
          -3.8518235422581313,
          -2.8518235422581313,
          -1.8518235422581313,
          -0.8518235422581313
         ],
         "yaxis": "y"
        }
       ],
       "layout": {
        "legend": {
         "itemsizing": "constant",
         "tracegroupgap": 0
        },
        "margin": {
         "t": 60
        },
        "template": {
         "data": {
          "bar": [
           {
            "error_x": {
             "color": "#2a3f5f"
            },
            "error_y": {
             "color": "#2a3f5f"
            },
            "marker": {
             "line": {
              "color": "#E5ECF6",
              "width": 0.5
             }
            },
            "type": "bar"
           }
          ],
          "barpolar": [
           {
            "marker": {
             "line": {
              "color": "#E5ECF6",
              "width": 0.5
             }
            },
            "type": "barpolar"
           }
          ],
          "carpet": [
           {
            "aaxis": {
             "endlinecolor": "#2a3f5f",
             "gridcolor": "white",
             "linecolor": "white",
             "minorgridcolor": "white",
             "startlinecolor": "#2a3f5f"
            },
            "baxis": {
             "endlinecolor": "#2a3f5f",
             "gridcolor": "white",
             "linecolor": "white",
             "minorgridcolor": "white",
             "startlinecolor": "#2a3f5f"
            },
            "type": "carpet"
           }
          ],
          "choropleth": [
           {
            "colorbar": {
             "outlinewidth": 0,
             "ticks": ""
            },
            "type": "choropleth"
           }
          ],
          "contour": [
           {
            "colorbar": {
             "outlinewidth": 0,
             "ticks": ""
            },
            "colorscale": [
             [
              0,
              "#0d0887"
             ],
             [
              0.1111111111111111,
              "#46039f"
             ],
             [
              0.2222222222222222,
              "#7201a8"
             ],
             [
              0.3333333333333333,
              "#9c179e"
             ],
             [
              0.4444444444444444,
              "#bd3786"
             ],
             [
              0.5555555555555556,
              "#d8576b"
             ],
             [
              0.6666666666666666,
              "#ed7953"
             ],
             [
              0.7777777777777778,
              "#fb9f3a"
             ],
             [
              0.8888888888888888,
              "#fdca26"
             ],
             [
              1,
              "#f0f921"
             ]
            ],
            "type": "contour"
           }
          ],
          "contourcarpet": [
           {
            "colorbar": {
             "outlinewidth": 0,
             "ticks": ""
            },
            "type": "contourcarpet"
           }
          ],
          "heatmap": [
           {
            "colorbar": {
             "outlinewidth": 0,
             "ticks": ""
            },
            "colorscale": [
             [
              0,
              "#0d0887"
             ],
             [
              0.1111111111111111,
              "#46039f"
             ],
             [
              0.2222222222222222,
              "#7201a8"
             ],
             [
              0.3333333333333333,
              "#9c179e"
             ],
             [
              0.4444444444444444,
              "#bd3786"
             ],
             [
              0.5555555555555556,
              "#d8576b"
             ],
             [
              0.6666666666666666,
              "#ed7953"
             ],
             [
              0.7777777777777778,
              "#fb9f3a"
             ],
             [
              0.8888888888888888,
              "#fdca26"
             ],
             [
              1,
              "#f0f921"
             ]
            ],
            "type": "heatmap"
           }
          ],
          "heatmapgl": [
           {
            "colorbar": {
             "outlinewidth": 0,
             "ticks": ""
            },
            "colorscale": [
             [
              0,
              "#0d0887"
             ],
             [
              0.1111111111111111,
              "#46039f"
             ],
             [
              0.2222222222222222,
              "#7201a8"
             ],
             [
              0.3333333333333333,
              "#9c179e"
             ],
             [
              0.4444444444444444,
              "#bd3786"
             ],
             [
              0.5555555555555556,
              "#d8576b"
             ],
             [
              0.6666666666666666,
              "#ed7953"
             ],
             [
              0.7777777777777778,
              "#fb9f3a"
             ],
             [
              0.8888888888888888,
              "#fdca26"
             ],
             [
              1,
              "#f0f921"
             ]
            ],
            "type": "heatmapgl"
           }
          ],
          "histogram": [
           {
            "marker": {
             "colorbar": {
              "outlinewidth": 0,
              "ticks": ""
             }
            },
            "type": "histogram"
           }
          ],
          "histogram2d": [
           {
            "colorbar": {
             "outlinewidth": 0,
             "ticks": ""
            },
            "colorscale": [
             [
              0,
              "#0d0887"
             ],
             [
              0.1111111111111111,
              "#46039f"
             ],
             [
              0.2222222222222222,
              "#7201a8"
             ],
             [
              0.3333333333333333,
              "#9c179e"
             ],
             [
              0.4444444444444444,
              "#bd3786"
             ],
             [
              0.5555555555555556,
              "#d8576b"
             ],
             [
              0.6666666666666666,
              "#ed7953"
             ],
             [
              0.7777777777777778,
              "#fb9f3a"
             ],
             [
              0.8888888888888888,
              "#fdca26"
             ],
             [
              1,
              "#f0f921"
             ]
            ],
            "type": "histogram2d"
           }
          ],
          "histogram2dcontour": [
           {
            "colorbar": {
             "outlinewidth": 0,
             "ticks": ""
            },
            "colorscale": [
             [
              0,
              "#0d0887"
             ],
             [
              0.1111111111111111,
              "#46039f"
             ],
             [
              0.2222222222222222,
              "#7201a8"
             ],
             [
              0.3333333333333333,
              "#9c179e"
             ],
             [
              0.4444444444444444,
              "#bd3786"
             ],
             [
              0.5555555555555556,
              "#d8576b"
             ],
             [
              0.6666666666666666,
              "#ed7953"
             ],
             [
              0.7777777777777778,
              "#fb9f3a"
             ],
             [
              0.8888888888888888,
              "#fdca26"
             ],
             [
              1,
              "#f0f921"
             ]
            ],
            "type": "histogram2dcontour"
           }
          ],
          "mesh3d": [
           {
            "colorbar": {
             "outlinewidth": 0,
             "ticks": ""
            },
            "type": "mesh3d"
           }
          ],
          "parcoords": [
           {
            "line": {
             "colorbar": {
              "outlinewidth": 0,
              "ticks": ""
             }
            },
            "type": "parcoords"
           }
          ],
          "pie": [
           {
            "automargin": true,
            "type": "pie"
           }
          ],
          "scatter": [
           {
            "marker": {
             "colorbar": {
              "outlinewidth": 0,
              "ticks": ""
             }
            },
            "type": "scatter"
           }
          ],
          "scatter3d": [
           {
            "line": {
             "colorbar": {
              "outlinewidth": 0,
              "ticks": ""
             }
            },
            "marker": {
             "colorbar": {
              "outlinewidth": 0,
              "ticks": ""
             }
            },
            "type": "scatter3d"
           }
          ],
          "scattercarpet": [
           {
            "marker": {
             "colorbar": {
              "outlinewidth": 0,
              "ticks": ""
             }
            },
            "type": "scattercarpet"
           }
          ],
          "scattergeo": [
           {
            "marker": {
             "colorbar": {
              "outlinewidth": 0,
              "ticks": ""
             }
            },
            "type": "scattergeo"
           }
          ],
          "scattergl": [
           {
            "marker": {
             "colorbar": {
              "outlinewidth": 0,
              "ticks": ""
             }
            },
            "type": "scattergl"
           }
          ],
          "scattermapbox": [
           {
            "marker": {
             "colorbar": {
              "outlinewidth": 0,
              "ticks": ""
             }
            },
            "type": "scattermapbox"
           }
          ],
          "scatterpolar": [
           {
            "marker": {
             "colorbar": {
              "outlinewidth": 0,
              "ticks": ""
             }
            },
            "type": "scatterpolar"
           }
          ],
          "scatterpolargl": [
           {
            "marker": {
             "colorbar": {
              "outlinewidth": 0,
              "ticks": ""
             }
            },
            "type": "scatterpolargl"
           }
          ],
          "scatterternary": [
           {
            "marker": {
             "colorbar": {
              "outlinewidth": 0,
              "ticks": ""
             }
            },
            "type": "scatterternary"
           }
          ],
          "surface": [
           {
            "colorbar": {
             "outlinewidth": 0,
             "ticks": ""
            },
            "colorscale": [
             [
              0,
              "#0d0887"
             ],
             [
              0.1111111111111111,
              "#46039f"
             ],
             [
              0.2222222222222222,
              "#7201a8"
             ],
             [
              0.3333333333333333,
              "#9c179e"
             ],
             [
              0.4444444444444444,
              "#bd3786"
             ],
             [
              0.5555555555555556,
              "#d8576b"
             ],
             [
              0.6666666666666666,
              "#ed7953"
             ],
             [
              0.7777777777777778,
              "#fb9f3a"
             ],
             [
              0.8888888888888888,
              "#fdca26"
             ],
             [
              1,
              "#f0f921"
             ]
            ],
            "type": "surface"
           }
          ],
          "table": [
           {
            "cells": {
             "fill": {
              "color": "#EBF0F8"
             },
             "line": {
              "color": "white"
             }
            },
            "header": {
             "fill": {
              "color": "#C8D4E3"
             },
             "line": {
              "color": "white"
             }
            },
            "type": "table"
           }
          ]
         },
         "layout": {
          "annotationdefaults": {
           "arrowcolor": "#2a3f5f",
           "arrowhead": 0,
           "arrowwidth": 1
          },
          "coloraxis": {
           "colorbar": {
            "outlinewidth": 0,
            "ticks": ""
           }
          },
          "colorscale": {
           "diverging": [
            [
             0,
             "#8e0152"
            ],
            [
             0.1,
             "#c51b7d"
            ],
            [
             0.2,
             "#de77ae"
            ],
            [
             0.3,
             "#f1b6da"
            ],
            [
             0.4,
             "#fde0ef"
            ],
            [
             0.5,
             "#f7f7f7"
            ],
            [
             0.6,
             "#e6f5d0"
            ],
            [
             0.7,
             "#b8e186"
            ],
            [
             0.8,
             "#7fbc41"
            ],
            [
             0.9,
             "#4d9221"
            ],
            [
             1,
             "#276419"
            ]
           ],
           "sequential": [
            [
             0,
             "#0d0887"
            ],
            [
             0.1111111111111111,
             "#46039f"
            ],
            [
             0.2222222222222222,
             "#7201a8"
            ],
            [
             0.3333333333333333,
             "#9c179e"
            ],
            [
             0.4444444444444444,
             "#bd3786"
            ],
            [
             0.5555555555555556,
             "#d8576b"
            ],
            [
             0.6666666666666666,
             "#ed7953"
            ],
            [
             0.7777777777777778,
             "#fb9f3a"
            ],
            [
             0.8888888888888888,
             "#fdca26"
            ],
            [
             1,
             "#f0f921"
            ]
           ],
           "sequentialminus": [
            [
             0,
             "#0d0887"
            ],
            [
             0.1111111111111111,
             "#46039f"
            ],
            [
             0.2222222222222222,
             "#7201a8"
            ],
            [
             0.3333333333333333,
             "#9c179e"
            ],
            [
             0.4444444444444444,
             "#bd3786"
            ],
            [
             0.5555555555555556,
             "#d8576b"
            ],
            [
             0.6666666666666666,
             "#ed7953"
            ],
            [
             0.7777777777777778,
             "#fb9f3a"
            ],
            [
             0.8888888888888888,
             "#fdca26"
            ],
            [
             1,
             "#f0f921"
            ]
           ]
          },
          "colorway": [
           "#636efa",
           "#EF553B",
           "#00cc96",
           "#ab63fa",
           "#FFA15A",
           "#19d3f3",
           "#FF6692",
           "#B6E880",
           "#FF97FF",
           "#FECB52"
          ],
          "font": {
           "color": "#2a3f5f"
          },
          "geo": {
           "bgcolor": "white",
           "lakecolor": "white",
           "landcolor": "#E5ECF6",
           "showlakes": true,
           "showland": true,
           "subunitcolor": "white"
          },
          "hoverlabel": {
           "align": "left"
          },
          "hovermode": "closest",
          "mapbox": {
           "style": "light"
          },
          "paper_bgcolor": "white",
          "plot_bgcolor": "#E5ECF6",
          "polar": {
           "angularaxis": {
            "gridcolor": "white",
            "linecolor": "white",
            "ticks": ""
           },
           "bgcolor": "#E5ECF6",
           "radialaxis": {
            "gridcolor": "white",
            "linecolor": "white",
            "ticks": ""
           }
          },
          "scene": {
           "xaxis": {
            "backgroundcolor": "#E5ECF6",
            "gridcolor": "white",
            "gridwidth": 2,
            "linecolor": "white",
            "showbackground": true,
            "ticks": "",
            "zerolinecolor": "white"
           },
           "yaxis": {
            "backgroundcolor": "#E5ECF6",
            "gridcolor": "white",
            "gridwidth": 2,
            "linecolor": "white",
            "showbackground": true,
            "ticks": "",
            "zerolinecolor": "white"
           },
           "zaxis": {
            "backgroundcolor": "#E5ECF6",
            "gridcolor": "white",
            "gridwidth": 2,
            "linecolor": "white",
            "showbackground": true,
            "ticks": "",
            "zerolinecolor": "white"
           }
          },
          "shapedefaults": {
           "line": {
            "color": "#2a3f5f"
           }
          },
          "ternary": {
           "aaxis": {
            "gridcolor": "white",
            "linecolor": "white",
            "ticks": ""
           },
           "baxis": {
            "gridcolor": "white",
            "linecolor": "white",
            "ticks": ""
           },
           "bgcolor": "#E5ECF6",
           "caxis": {
            "gridcolor": "white",
            "linecolor": "white",
            "ticks": ""
           }
          },
          "title": {
           "x": 0.05
          },
          "xaxis": {
           "automargin": true,
           "gridcolor": "white",
           "linecolor": "white",
           "ticks": "",
           "title": {
            "standoff": 15
           },
           "zerolinecolor": "white",
           "zerolinewidth": 2
          },
          "yaxis": {
           "automargin": true,
           "gridcolor": "white",
           "linecolor": "white",
           "ticks": "",
           "title": {
            "standoff": 15
           },
           "zerolinecolor": "white",
           "zerolinewidth": 2
          }
         }
        },
        "title": {
         "text": "All Ratings"
        },
        "xaxis": {
         "anchor": "y",
         "domain": [
          0,
          1
         ],
         "title": {
          "text": "x"
         }
        },
        "yaxis": {
         "anchor": "x",
         "domain": [
          0,
          1
         ],
         "title": {
          "text": "y"
         }
        }
       }
      },
      "text/html": [
       "<div>\n",
       "        \n",
       "        \n",
       "            <div id=\"e9c17b3d-8fab-419b-8b45-0e4b869d5ebc\" class=\"plotly-graph-div\" style=\"height:525px; width:100%;\"></div>\n",
       "            <script type=\"text/javascript\">\n",
       "                require([\"plotly\"], function(Plotly) {\n",
       "                    window.PLOTLYENV=window.PLOTLYENV || {};\n",
       "                    \n",
       "                if (document.getElementById(\"e9c17b3d-8fab-419b-8b45-0e4b869d5ebc\")) {\n",
       "                    Plotly.newPlot(\n",
       "                        'e9c17b3d-8fab-419b-8b45-0e4b869d5ebc',\n",
       "                        [{\"hovertemplate\": \"x=%{x}<br>y=%{y}<br>count=%{marker.size}<extra></extra>\", \"legendgroup\": \"\", \"marker\": {\"color\": \"#636efa\", \"size\": [2, 1, 1, 1, 1, 1, 1, 1, 1, 1, 1, 1, 3, 1, 1, 2, 4, 1, 1, 2, 1, 2, 2, 3, 3, 6, 2, 1, 1, 1, 7, 2, 4, 6, 2, 6, 1, 1, 1, 1, 3, 4, 4, 3, 10, 6, 2, 2, 1, 1, 2, 1, 2, 4, 1, 1, 1, 5, 4, 3, 3, 6, 3, 9, 1, 2, 4, 1, 4, 8, 7, 2, 11, 4, 2, 4, 7, 5, 7, 11, 8, 14, 10, 5, 4, 2, 5, 2, 9, 18, 13, 10, 3, 4, 1, 2, 1, 2, 3, 12, 8, 9, 6, 3, 1, 3, 5, 4, 10, 11, 10, 11, 12, 5, 14, 4, 7, 9, 8, 10, 28, 15, 19, 18, 15, 16, 5, 8, 10, 9, 10, 17, 19, 20, 16, 12, 17, 3, 8, 10, 15, 32, 45, 30, 19, 8, 8, 2, 4, 18, 27, 38, 35, 43, 33, 22, 16, 7, 3, 2, 32, 38, 78, 85, 86, 53, 25, 19, 14, 3, 4, 1, 63, 66, 83, 118, 126, 81, 42, 58, 23, 12, 4, 1, 88, 91, 159, 190, 168, 165, 115, 90, 63, 27, 28, 5, 167, 161, 239, 296, 234, 196, 197, 165, 149, 52, 70, 1, 11, 157, 228, 327, 338, 292, 227, 162, 90, 49, 14, 10, 3, 15, 87, 110, 126, 141, 176, 113, 133, 101, 123, 92, 55, 5, 18, 4, 1, 3], \"sizemode\": \"area\", \"sizeref\": 0.845, \"symbol\": \"circle\"}, \"mode\": \"markers\", \"name\": \"\", \"showlegend\": false, \"type\": \"scatter\", \"x\": [1995, 1995, 1995, 1995, 1995, 1995, 1996, 1996, 1997, 1997, 1997, 1997, 1997, 1997, 1998, 1998, 1998, 1998, 1998, 1998, 1998, 1998, 1999, 1999, 1999, 1999, 1999, 1999, 1999, 1999, 2000, 2000, 2000, 2000, 2000, 2000, 2000, 2000, 2000, 2000, 2001, 2001, 2001, 2001, 2001, 2001, 2001, 2001, 2002, 2002, 2002, 2002, 2002, 2002, 2002, 2002, 2002, 2003, 2003, 2003, 2003, 2003, 2003, 2003, 2003, 2003, 2004, 2004, 2004, 2004, 2004, 2004, 2004, 2004, 2004, 2005, 2005, 2005, 2005, 2005, 2005, 2005, 2005, 2005, 2005, 2005, 2006, 2006, 2006, 2006, 2006, 2006, 2006, 2006, 2006, 2006, 2007, 2007, 2007, 2007, 2007, 2007, 2007, 2007, 2007, 2007, 2008, 2008, 2008, 2008, 2008, 2008, 2008, 2008, 2008, 2008, 2008, 2009, 2009, 2009, 2009, 2009, 2009, 2009, 2009, 2009, 2009, 2009, 2010, 2010, 2010, 2010, 2010, 2010, 2010, 2010, 2010, 2010, 2010, 2011, 2011, 2011, 2011, 2011, 2011, 2011, 2011, 2011, 2011, 2012, 2012, 2012, 2012, 2012, 2012, 2012, 2012, 2012, 2012, 2012, 2013, 2013, 2013, 2013, 2013, 2013, 2013, 2013, 2013, 2013, 2013, 2014, 2014, 2014, 2014, 2014, 2014, 2014, 2014, 2014, 2014, 2014, 2014, 2015, 2015, 2015, 2015, 2015, 2015, 2015, 2015, 2015, 2015, 2015, 2015, 2016, 2016, 2016, 2016, 2016, 2016, 2016, 2016, 2016, 2016, 2016, 2016, 2017, 2017, 2017, 2017, 2017, 2017, 2017, 2017, 2017, 2017, 2017, 2017, 2017, 2018, 2018, 2018, 2018, 2018, 2018, 2018, 2018, 2018, 2018, 2018, 2018, 2018, 2019, 2019, 2019, 2019, 2019], \"xaxis\": \"x\", \"y\": [-3.8518235422581313, -0.8518235422581313, 0.14817645774186872, 1.1481764577418687, 2.1481764577418687, 3.1481764577418687, -2.8518235422581313, 3.1481764577418687, -2.8518235422581313, 0.14817645774186872, 2.1481764577418687, 3.1481764577418687, 4.148176457741869, 5.148176457741869, -3.8518235422581313, -2.8518235422581313, -1.8518235422581313, -0.8518235422581313, 0.14817645774186872, 1.1481764577418687, 2.1481764577418687, 4.148176457741869, -3.8518235422581313, -2.8518235422581313, -0.8518235422581313, 0.14817645774186872, 1.1481764577418687, 2.1481764577418687, 3.1481764577418687, 5.148176457741869, -3.8518235422581313, -2.8518235422581313, -1.8518235422581313, -0.8518235422581313, 0.14817645774186872, 1.1481764577418687, 2.1481764577418687, 3.1481764577418687, 4.148176457741869, 5.148176457741869, -3.8518235422581313, -1.8518235422581313, -0.8518235422581313, 0.14817645774186872, 1.1481764577418687, 2.1481764577418687, 3.1481764577418687, 5.148176457741869, -2.8518235422581313, -1.8518235422581313, -0.8518235422581313, 0.14817645774186872, 1.1481764577418687, 2.1481764577418687, 3.1481764577418687, 4.148176457741869, 6.148176457741869, -3.8518235422581313, -2.8518235422581313, -1.8518235422581313, -0.8518235422581313, 0.14817645774186872, 1.1481764577418687, 2.1481764577418687, 3.1481764577418687, 4.148176457741869, -3.8518235422581313, -2.8518235422581313, -0.8518235422581313, 0.14817645774186872, 1.1481764577418687, 2.1481764577418687, 3.1481764577418687, 4.148176457741869, 5.148176457741869, -3.8518235422581313, -2.8518235422581313, -1.8518235422581313, -0.8518235422581313, 0.14817645774186872, 1.1481764577418687, 2.1481764577418687, 3.1481764577418687, 4.148176457741869, 5.148176457741869, 6.148176457741869, -3.8518235422581313, -2.8518235422581313, -1.8518235422581313, -0.8518235422581313, 0.14817645774186872, 1.1481764577418687, 2.1481764577418687, 3.1481764577418687, 4.148176457741869, 6.148176457741869, -3.8518235422581313, -2.8518235422581313, -1.8518235422581313, -0.8518235422581313, 0.14817645774186872, 1.1481764577418687, 2.1481764577418687, 3.1481764577418687, 4.148176457741869, 5.148176457741869, -3.8518235422581313, -2.8518235422581313, -1.8518235422581313, -0.8518235422581313, 0.14817645774186872, 1.1481764577418687, 2.1481764577418687, 3.1481764577418687, 4.148176457741869, 5.148176457741869, 6.148176457741869, -3.8518235422581313, -2.8518235422581313, -1.8518235422581313, -0.8518235422581313, 0.14817645774186872, 1.1481764577418687, 2.1481764577418687, 3.1481764577418687, 4.148176457741869, 5.148176457741869, 6.148176457741869, -3.8518235422581313, -2.8518235422581313, -1.8518235422581313, -0.8518235422581313, 0.14817645774186872, 1.1481764577418687, 2.1481764577418687, 3.1481764577418687, 4.148176457741869, 5.148176457741869, 6.148176457741869, -3.8518235422581313, -2.8518235422581313, -1.8518235422581313, -0.8518235422581313, 0.14817645774186872, 1.1481764577418687, 2.1481764577418687, 3.1481764577418687, 4.148176457741869, 5.148176457741869, -3.8518235422581313, -2.8518235422581313, -1.8518235422581313, -0.8518235422581313, 0.14817645774186872, 1.1481764577418687, 2.1481764577418687, 3.1481764577418687, 4.148176457741869, 5.148176457741869, 6.148176457741869, -3.8518235422581313, -2.8518235422581313, -1.8518235422581313, -0.8518235422581313, 0.14817645774186872, 1.1481764577418687, 2.1481764577418687, 3.1481764577418687, 4.148176457741869, 5.148176457741869, 6.148176457741869, -4.851823542258131, -3.8518235422581313, -2.8518235422581313, -1.8518235422581313, -0.8518235422581313, 0.14817645774186872, 1.1481764577418687, 2.1481764577418687, 3.1481764577418687, 4.148176457741869, 5.148176457741869, 6.148176457741869, -5.851823542258131, -3.8518235422581313, -2.8518235422581313, -1.8518235422581313, -0.8518235422581313, 0.14817645774186872, 1.1481764577418687, 2.1481764577418687, 3.1481764577418687, 4.148176457741869, 5.148176457741869, 6.148176457741869, -4.851823542258131, -3.8518235422581313, -2.8518235422581313, -1.8518235422581313, -0.8518235422581313, 0.14817645774186872, 1.1481764577418687, 2.1481764577418687, 3.1481764577418687, 4.148176457741869, 5.148176457741869, 6.148176457741869, -6.851823542258131, -4.851823542258131, -3.8518235422581313, -2.8518235422581313, -1.8518235422581313, -0.8518235422581313, 0.14817645774186872, 1.1481764577418687, 2.1481764577418687, 3.1481764577418687, 4.148176457741869, 5.148176457741869, 6.148176457741869, -5.851823542258131, -4.851823542258131, -3.8518235422581313, -2.8518235422581313, -1.8518235422581313, -0.8518235422581313, 0.14817645774186872, 1.1481764577418687, 2.1481764577418687, 3.1481764577418687, 4.148176457741869, 5.148176457741869, 6.148176457741869, -4.851823542258131, -3.8518235422581313, -2.8518235422581313, -1.8518235422581313, -0.8518235422581313], \"yaxis\": \"y\"}],\n",
       "                        {\"legend\": {\"itemsizing\": \"constant\", \"tracegroupgap\": 0}, \"margin\": {\"t\": 60}, \"template\": {\"data\": {\"bar\": [{\"error_x\": {\"color\": \"#2a3f5f\"}, \"error_y\": {\"color\": \"#2a3f5f\"}, \"marker\": {\"line\": {\"color\": \"#E5ECF6\", \"width\": 0.5}}, \"type\": \"bar\"}], \"barpolar\": [{\"marker\": {\"line\": {\"color\": \"#E5ECF6\", \"width\": 0.5}}, \"type\": \"barpolar\"}], \"carpet\": [{\"aaxis\": {\"endlinecolor\": \"#2a3f5f\", \"gridcolor\": \"white\", \"linecolor\": \"white\", \"minorgridcolor\": \"white\", \"startlinecolor\": \"#2a3f5f\"}, \"baxis\": {\"endlinecolor\": \"#2a3f5f\", \"gridcolor\": \"white\", \"linecolor\": \"white\", \"minorgridcolor\": \"white\", \"startlinecolor\": \"#2a3f5f\"}, \"type\": \"carpet\"}], \"choropleth\": [{\"colorbar\": {\"outlinewidth\": 0, \"ticks\": \"\"}, \"type\": \"choropleth\"}], \"contour\": [{\"colorbar\": {\"outlinewidth\": 0, \"ticks\": \"\"}, \"colorscale\": [[0.0, \"#0d0887\"], [0.1111111111111111, \"#46039f\"], [0.2222222222222222, \"#7201a8\"], [0.3333333333333333, \"#9c179e\"], [0.4444444444444444, \"#bd3786\"], [0.5555555555555556, \"#d8576b\"], [0.6666666666666666, \"#ed7953\"], [0.7777777777777778, \"#fb9f3a\"], [0.8888888888888888, \"#fdca26\"], [1.0, \"#f0f921\"]], \"type\": \"contour\"}], \"contourcarpet\": [{\"colorbar\": {\"outlinewidth\": 0, \"ticks\": \"\"}, \"type\": \"contourcarpet\"}], \"heatmap\": [{\"colorbar\": {\"outlinewidth\": 0, \"ticks\": \"\"}, \"colorscale\": [[0.0, \"#0d0887\"], [0.1111111111111111, \"#46039f\"], [0.2222222222222222, \"#7201a8\"], [0.3333333333333333, \"#9c179e\"], [0.4444444444444444, \"#bd3786\"], [0.5555555555555556, \"#d8576b\"], [0.6666666666666666, \"#ed7953\"], [0.7777777777777778, \"#fb9f3a\"], [0.8888888888888888, \"#fdca26\"], [1.0, \"#f0f921\"]], \"type\": \"heatmap\"}], \"heatmapgl\": [{\"colorbar\": {\"outlinewidth\": 0, \"ticks\": \"\"}, \"colorscale\": [[0.0, \"#0d0887\"], [0.1111111111111111, \"#46039f\"], [0.2222222222222222, \"#7201a8\"], [0.3333333333333333, \"#9c179e\"], [0.4444444444444444, \"#bd3786\"], [0.5555555555555556, \"#d8576b\"], [0.6666666666666666, \"#ed7953\"], [0.7777777777777778, \"#fb9f3a\"], [0.8888888888888888, \"#fdca26\"], [1.0, \"#f0f921\"]], \"type\": \"heatmapgl\"}], \"histogram\": [{\"marker\": {\"colorbar\": {\"outlinewidth\": 0, \"ticks\": \"\"}}, \"type\": \"histogram\"}], \"histogram2d\": [{\"colorbar\": {\"outlinewidth\": 0, \"ticks\": \"\"}, \"colorscale\": [[0.0, \"#0d0887\"], [0.1111111111111111, \"#46039f\"], [0.2222222222222222, \"#7201a8\"], [0.3333333333333333, \"#9c179e\"], [0.4444444444444444, \"#bd3786\"], [0.5555555555555556, \"#d8576b\"], [0.6666666666666666, \"#ed7953\"], [0.7777777777777778, \"#fb9f3a\"], [0.8888888888888888, \"#fdca26\"], [1.0, \"#f0f921\"]], \"type\": \"histogram2d\"}], \"histogram2dcontour\": [{\"colorbar\": {\"outlinewidth\": 0, \"ticks\": \"\"}, \"colorscale\": [[0.0, \"#0d0887\"], [0.1111111111111111, \"#46039f\"], [0.2222222222222222, \"#7201a8\"], [0.3333333333333333, \"#9c179e\"], [0.4444444444444444, \"#bd3786\"], [0.5555555555555556, \"#d8576b\"], [0.6666666666666666, \"#ed7953\"], [0.7777777777777778, \"#fb9f3a\"], [0.8888888888888888, \"#fdca26\"], [1.0, \"#f0f921\"]], \"type\": \"histogram2dcontour\"}], \"mesh3d\": [{\"colorbar\": {\"outlinewidth\": 0, \"ticks\": \"\"}, \"type\": \"mesh3d\"}], \"parcoords\": [{\"line\": {\"colorbar\": {\"outlinewidth\": 0, \"ticks\": \"\"}}, \"type\": \"parcoords\"}], \"pie\": [{\"automargin\": true, \"type\": \"pie\"}], \"scatter\": [{\"marker\": {\"colorbar\": {\"outlinewidth\": 0, \"ticks\": \"\"}}, \"type\": \"scatter\"}], \"scatter3d\": [{\"line\": {\"colorbar\": {\"outlinewidth\": 0, \"ticks\": \"\"}}, \"marker\": {\"colorbar\": {\"outlinewidth\": 0, \"ticks\": \"\"}}, \"type\": \"scatter3d\"}], \"scattercarpet\": [{\"marker\": {\"colorbar\": {\"outlinewidth\": 0, \"ticks\": \"\"}}, \"type\": \"scattercarpet\"}], \"scattergeo\": [{\"marker\": {\"colorbar\": {\"outlinewidth\": 0, \"ticks\": \"\"}}, \"type\": \"scattergeo\"}], \"scattergl\": [{\"marker\": {\"colorbar\": {\"outlinewidth\": 0, \"ticks\": \"\"}}, \"type\": \"scattergl\"}], \"scattermapbox\": [{\"marker\": {\"colorbar\": {\"outlinewidth\": 0, \"ticks\": \"\"}}, \"type\": \"scattermapbox\"}], \"scatterpolar\": [{\"marker\": {\"colorbar\": {\"outlinewidth\": 0, \"ticks\": \"\"}}, \"type\": \"scatterpolar\"}], \"scatterpolargl\": [{\"marker\": {\"colorbar\": {\"outlinewidth\": 0, \"ticks\": \"\"}}, \"type\": \"scatterpolargl\"}], \"scatterternary\": [{\"marker\": {\"colorbar\": {\"outlinewidth\": 0, \"ticks\": \"\"}}, \"type\": \"scatterternary\"}], \"surface\": [{\"colorbar\": {\"outlinewidth\": 0, \"ticks\": \"\"}, \"colorscale\": [[0.0, \"#0d0887\"], [0.1111111111111111, \"#46039f\"], [0.2222222222222222, \"#7201a8\"], [0.3333333333333333, \"#9c179e\"], [0.4444444444444444, \"#bd3786\"], [0.5555555555555556, \"#d8576b\"], [0.6666666666666666, \"#ed7953\"], [0.7777777777777778, \"#fb9f3a\"], [0.8888888888888888, \"#fdca26\"], [1.0, \"#f0f921\"]], \"type\": \"surface\"}], \"table\": [{\"cells\": {\"fill\": {\"color\": \"#EBF0F8\"}, \"line\": {\"color\": \"white\"}}, \"header\": {\"fill\": {\"color\": \"#C8D4E3\"}, \"line\": {\"color\": \"white\"}}, \"type\": \"table\"}]}, \"layout\": {\"annotationdefaults\": {\"arrowcolor\": \"#2a3f5f\", \"arrowhead\": 0, \"arrowwidth\": 1}, \"coloraxis\": {\"colorbar\": {\"outlinewidth\": 0, \"ticks\": \"\"}}, \"colorscale\": {\"diverging\": [[0, \"#8e0152\"], [0.1, \"#c51b7d\"], [0.2, \"#de77ae\"], [0.3, \"#f1b6da\"], [0.4, \"#fde0ef\"], [0.5, \"#f7f7f7\"], [0.6, \"#e6f5d0\"], [0.7, \"#b8e186\"], [0.8, \"#7fbc41\"], [0.9, \"#4d9221\"], [1, \"#276419\"]], \"sequential\": [[0.0, \"#0d0887\"], [0.1111111111111111, \"#46039f\"], [0.2222222222222222, \"#7201a8\"], [0.3333333333333333, \"#9c179e\"], [0.4444444444444444, \"#bd3786\"], [0.5555555555555556, \"#d8576b\"], [0.6666666666666666, \"#ed7953\"], [0.7777777777777778, \"#fb9f3a\"], [0.8888888888888888, \"#fdca26\"], [1.0, \"#f0f921\"]], \"sequentialminus\": [[0.0, \"#0d0887\"], [0.1111111111111111, \"#46039f\"], [0.2222222222222222, \"#7201a8\"], [0.3333333333333333, \"#9c179e\"], [0.4444444444444444, \"#bd3786\"], [0.5555555555555556, \"#d8576b\"], [0.6666666666666666, \"#ed7953\"], [0.7777777777777778, \"#fb9f3a\"], [0.8888888888888888, \"#fdca26\"], [1.0, \"#f0f921\"]]}, \"colorway\": [\"#636efa\", \"#EF553B\", \"#00cc96\", \"#ab63fa\", \"#FFA15A\", \"#19d3f3\", \"#FF6692\", \"#B6E880\", \"#FF97FF\", \"#FECB52\"], \"font\": {\"color\": \"#2a3f5f\"}, \"geo\": {\"bgcolor\": \"white\", \"lakecolor\": \"white\", \"landcolor\": \"#E5ECF6\", \"showlakes\": true, \"showland\": true, \"subunitcolor\": \"white\"}, \"hoverlabel\": {\"align\": \"left\"}, \"hovermode\": \"closest\", \"mapbox\": {\"style\": \"light\"}, \"paper_bgcolor\": \"white\", \"plot_bgcolor\": \"#E5ECF6\", \"polar\": {\"angularaxis\": {\"gridcolor\": \"white\", \"linecolor\": \"white\", \"ticks\": \"\"}, \"bgcolor\": \"#E5ECF6\", \"radialaxis\": {\"gridcolor\": \"white\", \"linecolor\": \"white\", \"ticks\": \"\"}}, \"scene\": {\"xaxis\": {\"backgroundcolor\": \"#E5ECF6\", \"gridcolor\": \"white\", \"gridwidth\": 2, \"linecolor\": \"white\", \"showbackground\": true, \"ticks\": \"\", \"zerolinecolor\": \"white\"}, \"yaxis\": {\"backgroundcolor\": \"#E5ECF6\", \"gridcolor\": \"white\", \"gridwidth\": 2, \"linecolor\": \"white\", \"showbackground\": true, \"ticks\": \"\", \"zerolinecolor\": \"white\"}, \"zaxis\": {\"backgroundcolor\": \"#E5ECF6\", \"gridcolor\": \"white\", \"gridwidth\": 2, \"linecolor\": \"white\", \"showbackground\": true, \"ticks\": \"\", \"zerolinecolor\": \"white\"}}, \"shapedefaults\": {\"line\": {\"color\": \"#2a3f5f\"}}, \"ternary\": {\"aaxis\": {\"gridcolor\": \"white\", \"linecolor\": \"white\", \"ticks\": \"\"}, \"baxis\": {\"gridcolor\": \"white\", \"linecolor\": \"white\", \"ticks\": \"\"}, \"bgcolor\": \"#E5ECF6\", \"caxis\": {\"gridcolor\": \"white\", \"linecolor\": \"white\", \"ticks\": \"\"}}, \"title\": {\"x\": 0.05}, \"xaxis\": {\"automargin\": true, \"gridcolor\": \"white\", \"linecolor\": \"white\", \"ticks\": \"\", \"title\": {\"standoff\": 15}, \"zerolinecolor\": \"white\", \"zerolinewidth\": 2}, \"yaxis\": {\"automargin\": true, \"gridcolor\": \"white\", \"linecolor\": \"white\", \"ticks\": \"\", \"title\": {\"standoff\": 15}, \"zerolinecolor\": \"white\", \"zerolinewidth\": 2}}}, \"title\": {\"text\": \"All Ratings\"}, \"xaxis\": {\"anchor\": \"y\", \"domain\": [0.0, 1.0], \"title\": {\"text\": \"x\"}}, \"yaxis\": {\"anchor\": \"x\", \"domain\": [0.0, 1.0], \"title\": {\"text\": \"y\"}}},\n",
       "                        {\"responsive\": true}\n",
       "                    ).then(function(){\n",
       "                            \n",
       "var gd = document.getElementById('e9c17b3d-8fab-419b-8b45-0e4b869d5ebc');\n",
       "var x = new MutationObserver(function (mutations, observer) {{\n",
       "        var display = window.getComputedStyle(gd).display;\n",
       "        if (!display || display === 'none') {{\n",
       "            console.log([gd, 'removed!']);\n",
       "            Plotly.purge(gd);\n",
       "            observer.disconnect();\n",
       "        }}\n",
       "}});\n",
       "\n",
       "// Listen for the removal of the full notebook cells\n",
       "var notebookContainer = gd.closest('#notebook-container');\n",
       "if (notebookContainer) {{\n",
       "    x.observe(notebookContainer, {childList: true});\n",
       "}}\n",
       "\n",
       "// Listen for the clearing of the current output cell\n",
       "var outputEl = gd.closest('.output');\n",
       "if (outputEl) {{\n",
       "    x.observe(outputEl, {childList: true});\n",
       "}}\n",
       "\n",
       "                        })\n",
       "                };\n",
       "                });\n",
       "            </script>\n",
       "        </div>"
      ]
     },
     "metadata": {},
     "output_type": "display_data"
    },
    {
     "data": {
      "application/vnd.plotly.v1+json": {
       "config": {
        "plotlyServerURL": "https://plot.ly"
       },
       "data": [
        {
         "hovertemplate": "color=James Suckling<br>x=%{x}<br>rating=%{y}<br>count=%{marker.size}<extra></extra>",
         "legendgroup": "James Suckling",
         "marker": {
          "color": "#636efa",
          "size": [
           1,
           1,
           3,
           4,
           6,
           8,
           4,
           11,
           22,
           24,
           30,
           40,
           86,
           127,
           210,
           340,
           297,
           254,
           5
          ],
          "sizemode": "area",
          "sizeref": 1.0125,
          "symbol": "circle"
         },
         "mode": "markers",
         "name": "James Suckling",
         "showlegend": true,
         "type": "scatter",
         "x": [
          1995,
          1999,
          2000,
          2004,
          2005,
          2006,
          2007,
          2008,
          2009,
          2010,
          2011,
          2012,
          2013,
          2014,
          2015,
          2016,
          2017,
          2018,
          2019
         ],
         "xaxis": "x",
         "y": [
          2.1481764577418687,
          -0.8518235422581313,
          -0.18515687559146463,
          2.3981764577418687,
          1.6481764577418687,
          0.5231764577418687,
          0.6481764577418687,
          2.784540094105505,
          1.5572673668327779,
          1.8148431244085355,
          -0.5184902089247979,
          0.5981764577418687,
          0.06678110890465941,
          0.3922709459308451,
          1.0529383625037734,
          0.7305293989183392,
          0.04379935336476434,
          0.7741607097103727,
          -2.651823542258131
         ],
         "yaxis": "y"
        },
        {
         "hovertemplate": "color=Robert Parker<br>x=%{x}<br>rating=%{y}<br>count=%{marker.size}<extra></extra>",
         "legendgroup": "Robert Parker",
         "marker": {
          "color": "#EF553B",
          "size": [
           3,
           1,
           5,
           4,
           7,
           14,
           18,
           8,
           13,
           20,
           22,
           18,
           23,
           26,
           46,
           43,
           54,
           71,
           116,
           176,
           272,
           405,
           386,
           245,
           5
          ],
          "sizemode": "area",
          "sizeref": 1.0125,
          "symbol": "circle"
         },
         "mode": "markers",
         "name": "Robert Parker",
         "showlegend": true,
         "type": "scatter",
         "x": [
          1995,
          1996,
          1997,
          1998,
          1999,
          2000,
          2001,
          2002,
          2003,
          2004,
          2005,
          2006,
          2007,
          2008,
          2009,
          2010,
          2011,
          2012,
          2013,
          2014,
          2015,
          2016,
          2017,
          2018,
          2019
         ],
         "xaxis": "x",
         "y": [
          -0.18515687559146463,
          -2.8518235422581313,
          2.5481764577418686,
          0.14817645774186872,
          1.1481764577418687,
          -0.49468068511527413,
          1.481509791075202,
          1.8981764577418687,
          0.917407226972638,
          1.1981764577418688,
          1.8299946395600506,
          0.8148431244085353,
          1.0177416751331732,
          0.2635610731264841,
          1.3220895012201297,
          1.5667811089046595,
          -0.09256428299887202,
          0.5425426549249673,
          0.3809350784315239,
          0.16522191228732327,
          0.5231764577418687,
          0.4494110256431033,
          -0.6549323505482867,
          0.6542989067214605,
          -3.651823542258131
         ],
         "yaxis": "y"
        },
        {
         "hovertemplate": "color=Wine Spectator<br>x=%{x}<br>rating=%{y}<br>count=%{marker.size}<extra></extra>",
         "legendgroup": "Wine Spectator",
         "marker": {
          "color": "#00cc96",
          "size": [
           3,
           1,
           3,
           4,
           7,
           8,
           14,
           3,
           13,
           7,
           21,
           14,
           13,
           21,
           34,
           33,
           39,
           55,
           85,
           113,
           184,
           284,
           220,
           168,
           7
          ],
          "sizemode": "area",
          "sizeref": 1.0125,
          "symbol": "circle"
         },
         "mode": "markers",
         "name": "Wine Spectator",
         "showlegend": true,
         "type": "scatter",
         "x": [
          1995,
          1996,
          1997,
          1998,
          1999,
          2000,
          2001,
          2002,
          2003,
          2004,
          2005,
          2006,
          2007,
          2008,
          2009,
          2010,
          2011,
          2012,
          2013,
          2014,
          2015,
          2016,
          2017,
          2018,
          2019
         ],
         "xaxis": "x",
         "y": [
          -1.1851568755914645,
          3.1481764577418687,
          2.481509791075202,
          -0.8518235422581313,
          -1.137537827972417,
          -1.8518235422581313,
          -0.3518235422581313,
          0.8148431244085353,
          -0.08259277302736205,
          0.7196050291704401,
          0.7196050291704401,
          -0.137537827972417,
          -0.08259277302736205,
          0.00531931488472586,
          -0.23417648343460187,
          -0.42758111801570703,
          -1.2877209781555672,
          -1.106368996803586,
          -1.0400588363757783,
          -1.4801421263289278,
          -0.4605191944320443,
          -0.330696781694751,
          -0.6700053604399495,
          1.457700267265679,
          -3.5661092565438457
         ],
         "yaxis": "y"
        },
        {
         "hovertemplate": "color=Vinous<br>x=%{x}<br>rating=%{y}<br>count=%{marker.size}<extra></extra>",
         "legendgroup": "Vinous",
         "marker": {
          "color": "#ab63fa",
          "size": [
           2,
           1,
           1,
           1,
           3,
           1,
           3,
           1,
           1,
           2,
           11,
           2,
           10,
           10,
           32,
           42,
           63,
           108,
           129,
           32
          ],
          "sizemode": "area",
          "sizeref": 1.0125,
          "symbol": "circle"
         },
         "mode": "markers",
         "name": "Vinous",
         "showlegend": true,
         "type": "scatter",
         "x": [
          1998,
          1999,
          2000,
          2001,
          2003,
          2004,
          2005,
          2006,
          2007,
          2008,
          2009,
          2010,
          2011,
          2012,
          2013,
          2014,
          2015,
          2016,
          2017,
          2018
         ],
         "xaxis": "x",
         "y": [
          -2.3518235422581313,
          3.1481764577418687,
          4.148176457741869,
          1.1481764577418687,
          -0.8518235422581313,
          0.14817645774186872,
          -2.1851568755914648,
          3.1481764577418687,
          2.1481764577418687,
          4.148176457741869,
          1.2390855486509595,
          2.6481764577418687,
          0.6481764577418687,
          0.04817645774186872,
          0.023176457741868717,
          0.45770026726567825,
          0.3862716958371068,
          0.4259542355196465,
          -0.2859320693899142,
          -0.07057354225813128
         ],
         "yaxis": "y"
        },
        {
         "hovertemplate": "color=Wine & Spirits<br>x=%{x}<br>rating=%{y}<br>count=%{marker.size}<extra></extra>",
         "legendgroup": "Wine & Spirits",
         "marker": {
          "color": "#FFA15A",
          "size": [
           2,
           1,
           3,
           1,
           2,
           4,
           7,
           7,
           1,
           4,
           2,
           5,
           7,
           11,
           16,
           34,
           58,
           65,
           67,
           7,
           1
          ],
          "sizemode": "area",
          "sizeref": 1.0125,
          "symbol": "circle"
         },
         "mode": "markers",
         "name": "Wine & Spirits",
         "showlegend": true,
         "type": "scatter",
         "x": [
          1998,
          1999,
          2000,
          2002,
          2003,
          2004,
          2005,
          2006,
          2007,
          2008,
          2009,
          2010,
          2011,
          2012,
          2013,
          2014,
          2015,
          2016,
          2017,
          2018,
          2019
         ],
         "xaxis": "x",
         "y": [
          1.1481764577418687,
          -3.8518235422581313,
          -2.518490208924798,
          -0.8518235422581313,
          -1.8518235422581313,
          -0.10182354225813128,
          -0.8518235422581313,
          -1.5661092565438455,
          0.14817645774186872,
          -0.10182354225813128,
          0.6481764577418687,
          -2.251823542258131,
          -0.8518235422581313,
          -1.124550814985404,
          -2.1018235422581313,
          -1.2930000128463666,
          -0.6449269905339934,
          -1.882592773027362,
          -1.4488384676312656,
          -3.2803949708295597,
          -3.8518235422581313
         ],
         "yaxis": "y"
        },
        {
         "hovertemplate": "color=Wine Enthusiast<br>x=%{x}<br>rating=%{y}<br>count=%{marker.size}<extra></extra>",
         "legendgroup": "Wine Enthusiast",
         "marker": {
          "color": "#19d3f3",
          "size": [
           2,
           2,
           1,
           1,
           1,
           5,
           5,
           12,
           11,
           3,
           8,
           20,
           15,
           20,
           31,
           55,
           75,
           145,
           214,
           181,
           150,
           6
          ],
          "sizemode": "area",
          "sizeref": 1.0125,
          "symbol": "circle"
         },
         "mode": "markers",
         "name": "Wine Enthusiast",
         "showlegend": true,
         "type": "scatter",
         "x": [
          1998,
          1999,
          2000,
          2001,
          2002,
          2003,
          2004,
          2005,
          2006,
          2007,
          2008,
          2009,
          2010,
          2011,
          2012,
          2013,
          2014,
          2015,
          2016,
          2017,
          2018,
          2019
         ],
         "xaxis": "x",
         "y": [
          0.14817645774186872,
          -1.8518235422581313,
          1.1481764577418687,
          -3.8518235422581313,
          -1.8518235422581313,
          -1.6518235422581313,
          1.5481764577418686,
          0.8148431244085353,
          -0.8518235422581313,
          0.8148431244085353,
          0.7731764577418687,
          -0.0018235422581312833,
          1.281509791075202,
          -0.5018235422581313,
          -1.1098880583871635,
          -1.415459905894495,
          -0.7451568755914646,
          -0.7276856112236485,
          0.08742879419046684,
          -0.4043097301034351,
          0.8615097910752021,
          -3.8518235422581313
         ],
         "yaxis": "y"
        },
        {
         "hovertemplate": "color=Decanter<br>x=%{x}<br>rating=%{y}<br>count=%{marker.size}<extra></extra>",
         "legendgroup": "Decanter",
         "marker": {
          "color": "#FF6692",
          "size": [
           1,
           1,
           3,
           3,
           2,
           8,
           10,
           9,
           2,
           12,
           15,
           37,
           82,
           152,
           156,
           191
          ],
          "sizemode": "area",
          "sizeref": 1.0125,
          "symbol": "circle"
         },
         "mode": "markers",
         "name": "Decanter",
         "showlegend": true,
         "type": "scatter",
         "x": [
          2000,
          2004,
          2005,
          2006,
          2007,
          2008,
          2009,
          2010,
          2011,
          2012,
          2013,
          2014,
          2015,
          2016,
          2017,
          2018
         ],
         "xaxis": "x",
         "y": [
          1.1481764577418687,
          3.1481764577418687,
          1.8148431244085355,
          0.14817645774186872,
          -0.8518235422581313,
          1.1481764577418687,
          2.248176457741869,
          0.5926209021863131,
          0.14817645774186872,
          -0.3518235422581313,
          -0.11849020892479795,
          -0.50047219090678,
          -0.30304305445325325,
          0.7337027735313424,
          0.06484312440853539,
          0.40472096035966976
         ],
         "yaxis": "y"
        },
        {
         "hovertemplate": "color=wine.com<br>x=%{x}<br>rating=%{y}<br>count=%{marker.size}<extra></extra>",
         "legendgroup": "wine.com",
         "marker": {
          "color": "#B6E880",
          "size": [
           1,
           3,
           7,
           1,
           5,
           6,
           9,
           13,
           24,
           47,
           52,
           119,
           34,
           7
          ],
          "sizemode": "area",
          "sizeref": 1.0125,
          "symbol": "circle"
         },
         "mode": "markers",
         "name": "wine.com",
         "showlegend": true,
         "type": "scatter",
         "x": [
          2002,
          2006,
          2008,
          2009,
          2010,
          2011,
          2012,
          2013,
          2014,
          2015,
          2016,
          2017,
          2018,
          2019
         ],
         "xaxis": "x",
         "y": [
          3.1481764577418687,
          -0.8518235422581313,
          4.148176457741869,
          0.14817645774186872,
          1.1481764577418687,
          -0.8518235422581313,
          0.2592875688529798,
          -0.46720815764274665,
          0.023176457741868717,
          -0.3624618401304717,
          -1.1210543114889004,
          -1.6081260632665346,
          -3.263588248140484,
          -3.7089663994009885
         ],
         "yaxis": "y"
        },
        {
         "hovertemplate": "color=Jeb Dunnuck<br>x=%{x}<br>rating=%{y}<br>count=%{marker.size}<extra></extra>",
         "legendgroup": "Jeb Dunnuck",
         "marker": {
          "color": "#FF97FF",
          "size": [
           1,
           3,
           1,
           6,
           5,
           4,
           3,
           3,
           9,
           35,
           96,
           263,
           203,
           185
          ],
          "sizemode": "area",
          "sizeref": 1.0125,
          "symbol": "circle"
         },
         "mode": "markers",
         "name": "Jeb Dunnuck",
         "showlegend": true,
         "type": "scatter",
         "x": [
          2004,
          2005,
          2006,
          2008,
          2009,
          2010,
          2011,
          2012,
          2013,
          2014,
          2015,
          2016,
          2017,
          2018
         ],
         "xaxis": "x",
         "y": [
          4.148176457741869,
          2.481509791075202,
          -1.8518235422581313,
          4.814843124408536,
          5.348176457741869,
          3.8981764577418687,
          1.481509791075202,
          0.48150979107520203,
          -0.8518235422581313,
          2.005319314884726,
          1.8044264577418687,
          1.6804958493768638,
          0.4585212853280756,
          1.8130413226067437
         ],
         "yaxis": "y"
        },
        {
         "hovertemplate": "color=Burghound.com<br>x=%{x}<br>rating=%{y}<br>count=%{marker.size}<extra></extra>",
         "legendgroup": "Burghound.com",
         "marker": {
          "color": "#FECB52",
          "size": [
           1,
           1,
           1,
           2,
           2,
           10,
           14,
           28,
           48,
           148,
           9
          ],
          "sizemode": "area",
          "sizeref": 1.0125,
          "symbol": "circle"
         },
         "mode": "markers",
         "name": "Burghound.com",
         "showlegend": true,
         "type": "scatter",
         "x": [
          2006,
          2007,
          2010,
          2011,
          2012,
          2013,
          2014,
          2015,
          2016,
          2017,
          2018
         ],
         "xaxis": "x",
         "y": [
          -3.8518235422581313,
          0.14817645774186872,
          -0.8518235422581313,
          -0.3518235422581313,
          -1.3518235422581313,
          0.14817645774186872,
          -0.49468068511527413,
          -1.244680685115274,
          -1.6018235422581313,
          -1.7166884071229962,
          -2.0740457644803536
         ],
         "yaxis": "y"
        }
       ],
       "layout": {
        "legend": {
         "itemsizing": "constant",
         "title": {
          "text": "color"
         },
         "tracegroupgap": 0
        },
        "margin": {
         "t": 60
        },
        "template": {
         "data": {
          "bar": [
           {
            "error_x": {
             "color": "#2a3f5f"
            },
            "error_y": {
             "color": "#2a3f5f"
            },
            "marker": {
             "line": {
              "color": "#E5ECF6",
              "width": 0.5
             }
            },
            "type": "bar"
           }
          ],
          "barpolar": [
           {
            "marker": {
             "line": {
              "color": "#E5ECF6",
              "width": 0.5
             }
            },
            "type": "barpolar"
           }
          ],
          "carpet": [
           {
            "aaxis": {
             "endlinecolor": "#2a3f5f",
             "gridcolor": "white",
             "linecolor": "white",
             "minorgridcolor": "white",
             "startlinecolor": "#2a3f5f"
            },
            "baxis": {
             "endlinecolor": "#2a3f5f",
             "gridcolor": "white",
             "linecolor": "white",
             "minorgridcolor": "white",
             "startlinecolor": "#2a3f5f"
            },
            "type": "carpet"
           }
          ],
          "choropleth": [
           {
            "colorbar": {
             "outlinewidth": 0,
             "ticks": ""
            },
            "type": "choropleth"
           }
          ],
          "contour": [
           {
            "colorbar": {
             "outlinewidth": 0,
             "ticks": ""
            },
            "colorscale": [
             [
              0,
              "#0d0887"
             ],
             [
              0.1111111111111111,
              "#46039f"
             ],
             [
              0.2222222222222222,
              "#7201a8"
             ],
             [
              0.3333333333333333,
              "#9c179e"
             ],
             [
              0.4444444444444444,
              "#bd3786"
             ],
             [
              0.5555555555555556,
              "#d8576b"
             ],
             [
              0.6666666666666666,
              "#ed7953"
             ],
             [
              0.7777777777777778,
              "#fb9f3a"
             ],
             [
              0.8888888888888888,
              "#fdca26"
             ],
             [
              1,
              "#f0f921"
             ]
            ],
            "type": "contour"
           }
          ],
          "contourcarpet": [
           {
            "colorbar": {
             "outlinewidth": 0,
             "ticks": ""
            },
            "type": "contourcarpet"
           }
          ],
          "heatmap": [
           {
            "colorbar": {
             "outlinewidth": 0,
             "ticks": ""
            },
            "colorscale": [
             [
              0,
              "#0d0887"
             ],
             [
              0.1111111111111111,
              "#46039f"
             ],
             [
              0.2222222222222222,
              "#7201a8"
             ],
             [
              0.3333333333333333,
              "#9c179e"
             ],
             [
              0.4444444444444444,
              "#bd3786"
             ],
             [
              0.5555555555555556,
              "#d8576b"
             ],
             [
              0.6666666666666666,
              "#ed7953"
             ],
             [
              0.7777777777777778,
              "#fb9f3a"
             ],
             [
              0.8888888888888888,
              "#fdca26"
             ],
             [
              1,
              "#f0f921"
             ]
            ],
            "type": "heatmap"
           }
          ],
          "heatmapgl": [
           {
            "colorbar": {
             "outlinewidth": 0,
             "ticks": ""
            },
            "colorscale": [
             [
              0,
              "#0d0887"
             ],
             [
              0.1111111111111111,
              "#46039f"
             ],
             [
              0.2222222222222222,
              "#7201a8"
             ],
             [
              0.3333333333333333,
              "#9c179e"
             ],
             [
              0.4444444444444444,
              "#bd3786"
             ],
             [
              0.5555555555555556,
              "#d8576b"
             ],
             [
              0.6666666666666666,
              "#ed7953"
             ],
             [
              0.7777777777777778,
              "#fb9f3a"
             ],
             [
              0.8888888888888888,
              "#fdca26"
             ],
             [
              1,
              "#f0f921"
             ]
            ],
            "type": "heatmapgl"
           }
          ],
          "histogram": [
           {
            "marker": {
             "colorbar": {
              "outlinewidth": 0,
              "ticks": ""
             }
            },
            "type": "histogram"
           }
          ],
          "histogram2d": [
           {
            "colorbar": {
             "outlinewidth": 0,
             "ticks": ""
            },
            "colorscale": [
             [
              0,
              "#0d0887"
             ],
             [
              0.1111111111111111,
              "#46039f"
             ],
             [
              0.2222222222222222,
              "#7201a8"
             ],
             [
              0.3333333333333333,
              "#9c179e"
             ],
             [
              0.4444444444444444,
              "#bd3786"
             ],
             [
              0.5555555555555556,
              "#d8576b"
             ],
             [
              0.6666666666666666,
              "#ed7953"
             ],
             [
              0.7777777777777778,
              "#fb9f3a"
             ],
             [
              0.8888888888888888,
              "#fdca26"
             ],
             [
              1,
              "#f0f921"
             ]
            ],
            "type": "histogram2d"
           }
          ],
          "histogram2dcontour": [
           {
            "colorbar": {
             "outlinewidth": 0,
             "ticks": ""
            },
            "colorscale": [
             [
              0,
              "#0d0887"
             ],
             [
              0.1111111111111111,
              "#46039f"
             ],
             [
              0.2222222222222222,
              "#7201a8"
             ],
             [
              0.3333333333333333,
              "#9c179e"
             ],
             [
              0.4444444444444444,
              "#bd3786"
             ],
             [
              0.5555555555555556,
              "#d8576b"
             ],
             [
              0.6666666666666666,
              "#ed7953"
             ],
             [
              0.7777777777777778,
              "#fb9f3a"
             ],
             [
              0.8888888888888888,
              "#fdca26"
             ],
             [
              1,
              "#f0f921"
             ]
            ],
            "type": "histogram2dcontour"
           }
          ],
          "mesh3d": [
           {
            "colorbar": {
             "outlinewidth": 0,
             "ticks": ""
            },
            "type": "mesh3d"
           }
          ],
          "parcoords": [
           {
            "line": {
             "colorbar": {
              "outlinewidth": 0,
              "ticks": ""
             }
            },
            "type": "parcoords"
           }
          ],
          "pie": [
           {
            "automargin": true,
            "type": "pie"
           }
          ],
          "scatter": [
           {
            "marker": {
             "colorbar": {
              "outlinewidth": 0,
              "ticks": ""
             }
            },
            "type": "scatter"
           }
          ],
          "scatter3d": [
           {
            "line": {
             "colorbar": {
              "outlinewidth": 0,
              "ticks": ""
             }
            },
            "marker": {
             "colorbar": {
              "outlinewidth": 0,
              "ticks": ""
             }
            },
            "type": "scatter3d"
           }
          ],
          "scattercarpet": [
           {
            "marker": {
             "colorbar": {
              "outlinewidth": 0,
              "ticks": ""
             }
            },
            "type": "scattercarpet"
           }
          ],
          "scattergeo": [
           {
            "marker": {
             "colorbar": {
              "outlinewidth": 0,
              "ticks": ""
             }
            },
            "type": "scattergeo"
           }
          ],
          "scattergl": [
           {
            "marker": {
             "colorbar": {
              "outlinewidth": 0,
              "ticks": ""
             }
            },
            "type": "scattergl"
           }
          ],
          "scattermapbox": [
           {
            "marker": {
             "colorbar": {
              "outlinewidth": 0,
              "ticks": ""
             }
            },
            "type": "scattermapbox"
           }
          ],
          "scatterpolar": [
           {
            "marker": {
             "colorbar": {
              "outlinewidth": 0,
              "ticks": ""
             }
            },
            "type": "scatterpolar"
           }
          ],
          "scatterpolargl": [
           {
            "marker": {
             "colorbar": {
              "outlinewidth": 0,
              "ticks": ""
             }
            },
            "type": "scatterpolargl"
           }
          ],
          "scatterternary": [
           {
            "marker": {
             "colorbar": {
              "outlinewidth": 0,
              "ticks": ""
             }
            },
            "type": "scatterternary"
           }
          ],
          "surface": [
           {
            "colorbar": {
             "outlinewidth": 0,
             "ticks": ""
            },
            "colorscale": [
             [
              0,
              "#0d0887"
             ],
             [
              0.1111111111111111,
              "#46039f"
             ],
             [
              0.2222222222222222,
              "#7201a8"
             ],
             [
              0.3333333333333333,
              "#9c179e"
             ],
             [
              0.4444444444444444,
              "#bd3786"
             ],
             [
              0.5555555555555556,
              "#d8576b"
             ],
             [
              0.6666666666666666,
              "#ed7953"
             ],
             [
              0.7777777777777778,
              "#fb9f3a"
             ],
             [
              0.8888888888888888,
              "#fdca26"
             ],
             [
              1,
              "#f0f921"
             ]
            ],
            "type": "surface"
           }
          ],
          "table": [
           {
            "cells": {
             "fill": {
              "color": "#EBF0F8"
             },
             "line": {
              "color": "white"
             }
            },
            "header": {
             "fill": {
              "color": "#C8D4E3"
             },
             "line": {
              "color": "white"
             }
            },
            "type": "table"
           }
          ]
         },
         "layout": {
          "annotationdefaults": {
           "arrowcolor": "#2a3f5f",
           "arrowhead": 0,
           "arrowwidth": 1
          },
          "coloraxis": {
           "colorbar": {
            "outlinewidth": 0,
            "ticks": ""
           }
          },
          "colorscale": {
           "diverging": [
            [
             0,
             "#8e0152"
            ],
            [
             0.1,
             "#c51b7d"
            ],
            [
             0.2,
             "#de77ae"
            ],
            [
             0.3,
             "#f1b6da"
            ],
            [
             0.4,
             "#fde0ef"
            ],
            [
             0.5,
             "#f7f7f7"
            ],
            [
             0.6,
             "#e6f5d0"
            ],
            [
             0.7,
             "#b8e186"
            ],
            [
             0.8,
             "#7fbc41"
            ],
            [
             0.9,
             "#4d9221"
            ],
            [
             1,
             "#276419"
            ]
           ],
           "sequential": [
            [
             0,
             "#0d0887"
            ],
            [
             0.1111111111111111,
             "#46039f"
            ],
            [
             0.2222222222222222,
             "#7201a8"
            ],
            [
             0.3333333333333333,
             "#9c179e"
            ],
            [
             0.4444444444444444,
             "#bd3786"
            ],
            [
             0.5555555555555556,
             "#d8576b"
            ],
            [
             0.6666666666666666,
             "#ed7953"
            ],
            [
             0.7777777777777778,
             "#fb9f3a"
            ],
            [
             0.8888888888888888,
             "#fdca26"
            ],
            [
             1,
             "#f0f921"
            ]
           ],
           "sequentialminus": [
            [
             0,
             "#0d0887"
            ],
            [
             0.1111111111111111,
             "#46039f"
            ],
            [
             0.2222222222222222,
             "#7201a8"
            ],
            [
             0.3333333333333333,
             "#9c179e"
            ],
            [
             0.4444444444444444,
             "#bd3786"
            ],
            [
             0.5555555555555556,
             "#d8576b"
            ],
            [
             0.6666666666666666,
             "#ed7953"
            ],
            [
             0.7777777777777778,
             "#fb9f3a"
            ],
            [
             0.8888888888888888,
             "#fdca26"
            ],
            [
             1,
             "#f0f921"
            ]
           ]
          },
          "colorway": [
           "#636efa",
           "#EF553B",
           "#00cc96",
           "#ab63fa",
           "#FFA15A",
           "#19d3f3",
           "#FF6692",
           "#B6E880",
           "#FF97FF",
           "#FECB52"
          ],
          "font": {
           "color": "#2a3f5f"
          },
          "geo": {
           "bgcolor": "white",
           "lakecolor": "white",
           "landcolor": "#E5ECF6",
           "showlakes": true,
           "showland": true,
           "subunitcolor": "white"
          },
          "hoverlabel": {
           "align": "left"
          },
          "hovermode": "closest",
          "mapbox": {
           "style": "light"
          },
          "paper_bgcolor": "white",
          "plot_bgcolor": "#E5ECF6",
          "polar": {
           "angularaxis": {
            "gridcolor": "white",
            "linecolor": "white",
            "ticks": ""
           },
           "bgcolor": "#E5ECF6",
           "radialaxis": {
            "gridcolor": "white",
            "linecolor": "white",
            "ticks": ""
           }
          },
          "scene": {
           "xaxis": {
            "backgroundcolor": "#E5ECF6",
            "gridcolor": "white",
            "gridwidth": 2,
            "linecolor": "white",
            "showbackground": true,
            "ticks": "",
            "zerolinecolor": "white"
           },
           "yaxis": {
            "backgroundcolor": "#E5ECF6",
            "gridcolor": "white",
            "gridwidth": 2,
            "linecolor": "white",
            "showbackground": true,
            "ticks": "",
            "zerolinecolor": "white"
           },
           "zaxis": {
            "backgroundcolor": "#E5ECF6",
            "gridcolor": "white",
            "gridwidth": 2,
            "linecolor": "white",
            "showbackground": true,
            "ticks": "",
            "zerolinecolor": "white"
           }
          },
          "shapedefaults": {
           "line": {
            "color": "#2a3f5f"
           }
          },
          "ternary": {
           "aaxis": {
            "gridcolor": "white",
            "linecolor": "white",
            "ticks": ""
           },
           "baxis": {
            "gridcolor": "white",
            "linecolor": "white",
            "ticks": ""
           },
           "bgcolor": "#E5ECF6",
           "caxis": {
            "gridcolor": "white",
            "linecolor": "white",
            "ticks": ""
           }
          },
          "title": {
           "x": 0.05
          },
          "xaxis": {
           "automargin": true,
           "gridcolor": "white",
           "linecolor": "white",
           "ticks": "",
           "title": {
            "standoff": 15
           },
           "zerolinecolor": "white",
           "zerolinewidth": 2
          },
          "yaxis": {
           "automargin": true,
           "gridcolor": "white",
           "linecolor": "white",
           "ticks": "",
           "title": {
            "standoff": 15
           },
           "zerolinecolor": "white",
           "zerolinewidth": 2
          }
         }
        },
        "title": {
         "text": "Average Ratings"
        },
        "xaxis": {
         "anchor": "y",
         "domain": [
          0,
          1
         ],
         "title": {
          "text": "vintage"
         }
        },
        "yaxis": {
         "anchor": "x",
         "domain": [
          0,
          1
         ],
         "title": {
          "text": "rating"
         }
        }
       }
      },
      "text/html": [
       "<div>\n",
       "        \n",
       "        \n",
       "            <div id=\"46bb46ed-59dc-42df-823c-4802affc3f92\" class=\"plotly-graph-div\" style=\"height:525px; width:100%;\"></div>\n",
       "            <script type=\"text/javascript\">\n",
       "                require([\"plotly\"], function(Plotly) {\n",
       "                    window.PLOTLYENV=window.PLOTLYENV || {};\n",
       "                    \n",
       "                if (document.getElementById(\"46bb46ed-59dc-42df-823c-4802affc3f92\")) {\n",
       "                    Plotly.newPlot(\n",
       "                        '46bb46ed-59dc-42df-823c-4802affc3f92',\n",
       "                        [{\"hovertemplate\": \"color=James Suckling<br>x=%{x}<br>rating=%{y}<br>count=%{marker.size}<extra></extra>\", \"legendgroup\": \"James Suckling\", \"marker\": {\"color\": \"#636efa\", \"size\": [1, 1, 3, 4, 6, 8, 4, 11, 22, 24, 30, 40, 86, 127, 210, 340, 297, 254, 5], \"sizemode\": \"area\", \"sizeref\": 1.0125, \"symbol\": \"circle\"}, \"mode\": \"markers\", \"name\": \"James Suckling\", \"showlegend\": true, \"type\": \"scatter\", \"x\": [1995, 1999, 2000, 2004, 2005, 2006, 2007, 2008, 2009, 2010, 2011, 2012, 2013, 2014, 2015, 2016, 2017, 2018, 2019], \"xaxis\": \"x\", \"y\": [2.1481764577418687, -0.8518235422581313, -0.18515687559146463, 2.3981764577418687, 1.6481764577418687, 0.5231764577418687, 0.6481764577418687, 2.784540094105505, 1.5572673668327779, 1.8148431244085355, -0.5184902089247979, 0.5981764577418687, 0.06678110890465941, 0.3922709459308451, 1.0529383625037734, 0.7305293989183392, 0.04379935336476434, 0.7741607097103727, -2.651823542258131], \"yaxis\": \"y\"}, {\"hovertemplate\": \"color=Robert Parker<br>x=%{x}<br>rating=%{y}<br>count=%{marker.size}<extra></extra>\", \"legendgroup\": \"Robert Parker\", \"marker\": {\"color\": \"#EF553B\", \"size\": [3, 1, 5, 4, 7, 14, 18, 8, 13, 20, 22, 18, 23, 26, 46, 43, 54, 71, 116, 176, 272, 405, 386, 245, 5], \"sizemode\": \"area\", \"sizeref\": 1.0125, \"symbol\": \"circle\"}, \"mode\": \"markers\", \"name\": \"Robert Parker\", \"showlegend\": true, \"type\": \"scatter\", \"x\": [1995, 1996, 1997, 1998, 1999, 2000, 2001, 2002, 2003, 2004, 2005, 2006, 2007, 2008, 2009, 2010, 2011, 2012, 2013, 2014, 2015, 2016, 2017, 2018, 2019], \"xaxis\": \"x\", \"y\": [-0.18515687559146463, -2.8518235422581313, 2.5481764577418686, 0.14817645774186872, 1.1481764577418687, -0.49468068511527413, 1.481509791075202, 1.8981764577418687, 0.917407226972638, 1.1981764577418688, 1.8299946395600506, 0.8148431244085353, 1.0177416751331732, 0.2635610731264841, 1.3220895012201297, 1.5667811089046595, -0.09256428299887202, 0.5425426549249673, 0.3809350784315239, 0.16522191228732327, 0.5231764577418687, 0.4494110256431033, -0.6549323505482867, 0.6542989067214605, -3.651823542258131], \"yaxis\": \"y\"}, {\"hovertemplate\": \"color=Wine Spectator<br>x=%{x}<br>rating=%{y}<br>count=%{marker.size}<extra></extra>\", \"legendgroup\": \"Wine Spectator\", \"marker\": {\"color\": \"#00cc96\", \"size\": [3, 1, 3, 4, 7, 8, 14, 3, 13, 7, 21, 14, 13, 21, 34, 33, 39, 55, 85, 113, 184, 284, 220, 168, 7], \"sizemode\": \"area\", \"sizeref\": 1.0125, \"symbol\": \"circle\"}, \"mode\": \"markers\", \"name\": \"Wine Spectator\", \"showlegend\": true, \"type\": \"scatter\", \"x\": [1995, 1996, 1997, 1998, 1999, 2000, 2001, 2002, 2003, 2004, 2005, 2006, 2007, 2008, 2009, 2010, 2011, 2012, 2013, 2014, 2015, 2016, 2017, 2018, 2019], \"xaxis\": \"x\", \"y\": [-1.1851568755914645, 3.1481764577418687, 2.481509791075202, -0.8518235422581313, -1.137537827972417, -1.8518235422581313, -0.3518235422581313, 0.8148431244085353, -0.08259277302736205, 0.7196050291704401, 0.7196050291704401, -0.137537827972417, -0.08259277302736205, 0.00531931488472586, -0.23417648343460187, -0.42758111801570703, -1.2877209781555672, -1.106368996803586, -1.0400588363757783, -1.4801421263289278, -0.4605191944320443, -0.330696781694751, -0.6700053604399495, 1.457700267265679, -3.5661092565438457], \"yaxis\": \"y\"}, {\"hovertemplate\": \"color=Vinous<br>x=%{x}<br>rating=%{y}<br>count=%{marker.size}<extra></extra>\", \"legendgroup\": \"Vinous\", \"marker\": {\"color\": \"#ab63fa\", \"size\": [2, 1, 1, 1, 3, 1, 3, 1, 1, 2, 11, 2, 10, 10, 32, 42, 63, 108, 129, 32], \"sizemode\": \"area\", \"sizeref\": 1.0125, \"symbol\": \"circle\"}, \"mode\": \"markers\", \"name\": \"Vinous\", \"showlegend\": true, \"type\": \"scatter\", \"x\": [1998, 1999, 2000, 2001, 2003, 2004, 2005, 2006, 2007, 2008, 2009, 2010, 2011, 2012, 2013, 2014, 2015, 2016, 2017, 2018], \"xaxis\": \"x\", \"y\": [-2.3518235422581313, 3.1481764577418687, 4.148176457741869, 1.1481764577418687, -0.8518235422581313, 0.14817645774186872, -2.1851568755914648, 3.1481764577418687, 2.1481764577418687, 4.148176457741869, 1.2390855486509595, 2.6481764577418687, 0.6481764577418687, 0.04817645774186872, 0.023176457741868717, 0.45770026726567825, 0.3862716958371068, 0.4259542355196465, -0.2859320693899142, -0.07057354225813128], \"yaxis\": \"y\"}, {\"hovertemplate\": \"color=Wine & Spirits<br>x=%{x}<br>rating=%{y}<br>count=%{marker.size}<extra></extra>\", \"legendgroup\": \"Wine & Spirits\", \"marker\": {\"color\": \"#FFA15A\", \"size\": [2, 1, 3, 1, 2, 4, 7, 7, 1, 4, 2, 5, 7, 11, 16, 34, 58, 65, 67, 7, 1], \"sizemode\": \"area\", \"sizeref\": 1.0125, \"symbol\": \"circle\"}, \"mode\": \"markers\", \"name\": \"Wine & Spirits\", \"showlegend\": true, \"type\": \"scatter\", \"x\": [1998, 1999, 2000, 2002, 2003, 2004, 2005, 2006, 2007, 2008, 2009, 2010, 2011, 2012, 2013, 2014, 2015, 2016, 2017, 2018, 2019], \"xaxis\": \"x\", \"y\": [1.1481764577418687, -3.8518235422581313, -2.518490208924798, -0.8518235422581313, -1.8518235422581313, -0.10182354225813128, -0.8518235422581313, -1.5661092565438455, 0.14817645774186872, -0.10182354225813128, 0.6481764577418687, -2.251823542258131, -0.8518235422581313, -1.124550814985404, -2.1018235422581313, -1.2930000128463666, -0.6449269905339934, -1.882592773027362, -1.4488384676312656, -3.2803949708295597, -3.8518235422581313], \"yaxis\": \"y\"}, {\"hovertemplate\": \"color=Wine Enthusiast<br>x=%{x}<br>rating=%{y}<br>count=%{marker.size}<extra></extra>\", \"legendgroup\": \"Wine Enthusiast\", \"marker\": {\"color\": \"#19d3f3\", \"size\": [2, 2, 1, 1, 1, 5, 5, 12, 11, 3, 8, 20, 15, 20, 31, 55, 75, 145, 214, 181, 150, 6], \"sizemode\": \"area\", \"sizeref\": 1.0125, \"symbol\": \"circle\"}, \"mode\": \"markers\", \"name\": \"Wine Enthusiast\", \"showlegend\": true, \"type\": \"scatter\", \"x\": [1998, 1999, 2000, 2001, 2002, 2003, 2004, 2005, 2006, 2007, 2008, 2009, 2010, 2011, 2012, 2013, 2014, 2015, 2016, 2017, 2018, 2019], \"xaxis\": \"x\", \"y\": [0.14817645774186872, -1.8518235422581313, 1.1481764577418687, -3.8518235422581313, -1.8518235422581313, -1.6518235422581313, 1.5481764577418686, 0.8148431244085353, -0.8518235422581313, 0.8148431244085353, 0.7731764577418687, -0.0018235422581312833, 1.281509791075202, -0.5018235422581313, -1.1098880583871635, -1.415459905894495, -0.7451568755914646, -0.7276856112236485, 0.08742879419046684, -0.4043097301034351, 0.8615097910752021, -3.8518235422581313], \"yaxis\": \"y\"}, {\"hovertemplate\": \"color=Decanter<br>x=%{x}<br>rating=%{y}<br>count=%{marker.size}<extra></extra>\", \"legendgroup\": \"Decanter\", \"marker\": {\"color\": \"#FF6692\", \"size\": [1, 1, 3, 3, 2, 8, 10, 9, 2, 12, 15, 37, 82, 152, 156, 191], \"sizemode\": \"area\", \"sizeref\": 1.0125, \"symbol\": \"circle\"}, \"mode\": \"markers\", \"name\": \"Decanter\", \"showlegend\": true, \"type\": \"scatter\", \"x\": [2000, 2004, 2005, 2006, 2007, 2008, 2009, 2010, 2011, 2012, 2013, 2014, 2015, 2016, 2017, 2018], \"xaxis\": \"x\", \"y\": [1.1481764577418687, 3.1481764577418687, 1.8148431244085355, 0.14817645774186872, -0.8518235422581313, 1.1481764577418687, 2.248176457741869, 0.5926209021863131, 0.14817645774186872, -0.3518235422581313, -0.11849020892479795, -0.50047219090678, -0.30304305445325325, 0.7337027735313424, 0.06484312440853539, 0.40472096035966976], \"yaxis\": \"y\"}, {\"hovertemplate\": \"color=wine.com<br>x=%{x}<br>rating=%{y}<br>count=%{marker.size}<extra></extra>\", \"legendgroup\": \"wine.com\", \"marker\": {\"color\": \"#B6E880\", \"size\": [1, 3, 7, 1, 5, 6, 9, 13, 24, 47, 52, 119, 34, 7], \"sizemode\": \"area\", \"sizeref\": 1.0125, \"symbol\": \"circle\"}, \"mode\": \"markers\", \"name\": \"wine.com\", \"showlegend\": true, \"type\": \"scatter\", \"x\": [2002, 2006, 2008, 2009, 2010, 2011, 2012, 2013, 2014, 2015, 2016, 2017, 2018, 2019], \"xaxis\": \"x\", \"y\": [3.1481764577418687, -0.8518235422581313, 4.148176457741869, 0.14817645774186872, 1.1481764577418687, -0.8518235422581313, 0.2592875688529798, -0.46720815764274665, 0.023176457741868717, -0.3624618401304717, -1.1210543114889004, -1.6081260632665346, -3.263588248140484, -3.7089663994009885], \"yaxis\": \"y\"}, {\"hovertemplate\": \"color=Jeb Dunnuck<br>x=%{x}<br>rating=%{y}<br>count=%{marker.size}<extra></extra>\", \"legendgroup\": \"Jeb Dunnuck\", \"marker\": {\"color\": \"#FF97FF\", \"size\": [1, 3, 1, 6, 5, 4, 3, 3, 9, 35, 96, 263, 203, 185], \"sizemode\": \"area\", \"sizeref\": 1.0125, \"symbol\": \"circle\"}, \"mode\": \"markers\", \"name\": \"Jeb Dunnuck\", \"showlegend\": true, \"type\": \"scatter\", \"x\": [2004, 2005, 2006, 2008, 2009, 2010, 2011, 2012, 2013, 2014, 2015, 2016, 2017, 2018], \"xaxis\": \"x\", \"y\": [4.148176457741869, 2.481509791075202, -1.8518235422581313, 4.814843124408536, 5.348176457741869, 3.8981764577418687, 1.481509791075202, 0.48150979107520203, -0.8518235422581313, 2.005319314884726, 1.8044264577418687, 1.6804958493768638, 0.4585212853280756, 1.8130413226067437], \"yaxis\": \"y\"}, {\"hovertemplate\": \"color=Burghound.com<br>x=%{x}<br>rating=%{y}<br>count=%{marker.size}<extra></extra>\", \"legendgroup\": \"Burghound.com\", \"marker\": {\"color\": \"#FECB52\", \"size\": [1, 1, 1, 2, 2, 10, 14, 28, 48, 148, 9], \"sizemode\": \"area\", \"sizeref\": 1.0125, \"symbol\": \"circle\"}, \"mode\": \"markers\", \"name\": \"Burghound.com\", \"showlegend\": true, \"type\": \"scatter\", \"x\": [2006, 2007, 2010, 2011, 2012, 2013, 2014, 2015, 2016, 2017, 2018], \"xaxis\": \"x\", \"y\": [-3.8518235422581313, 0.14817645774186872, -0.8518235422581313, -0.3518235422581313, -1.3518235422581313, 0.14817645774186872, -0.49468068511527413, -1.244680685115274, -1.6018235422581313, -1.7166884071229962, -2.0740457644803536], \"yaxis\": \"y\"}],\n",
       "                        {\"legend\": {\"itemsizing\": \"constant\", \"title\": {\"text\": \"color\"}, \"tracegroupgap\": 0}, \"margin\": {\"t\": 60}, \"template\": {\"data\": {\"bar\": [{\"error_x\": {\"color\": \"#2a3f5f\"}, \"error_y\": {\"color\": \"#2a3f5f\"}, \"marker\": {\"line\": {\"color\": \"#E5ECF6\", \"width\": 0.5}}, \"type\": \"bar\"}], \"barpolar\": [{\"marker\": {\"line\": {\"color\": \"#E5ECF6\", \"width\": 0.5}}, \"type\": \"barpolar\"}], \"carpet\": [{\"aaxis\": {\"endlinecolor\": \"#2a3f5f\", \"gridcolor\": \"white\", \"linecolor\": \"white\", \"minorgridcolor\": \"white\", \"startlinecolor\": \"#2a3f5f\"}, \"baxis\": {\"endlinecolor\": \"#2a3f5f\", \"gridcolor\": \"white\", \"linecolor\": \"white\", \"minorgridcolor\": \"white\", \"startlinecolor\": \"#2a3f5f\"}, \"type\": \"carpet\"}], \"choropleth\": [{\"colorbar\": {\"outlinewidth\": 0, \"ticks\": \"\"}, \"type\": \"choropleth\"}], \"contour\": [{\"colorbar\": {\"outlinewidth\": 0, \"ticks\": \"\"}, \"colorscale\": [[0.0, \"#0d0887\"], [0.1111111111111111, \"#46039f\"], [0.2222222222222222, \"#7201a8\"], [0.3333333333333333, \"#9c179e\"], [0.4444444444444444, \"#bd3786\"], [0.5555555555555556, \"#d8576b\"], [0.6666666666666666, \"#ed7953\"], [0.7777777777777778, \"#fb9f3a\"], [0.8888888888888888, \"#fdca26\"], [1.0, \"#f0f921\"]], \"type\": \"contour\"}], \"contourcarpet\": [{\"colorbar\": {\"outlinewidth\": 0, \"ticks\": \"\"}, \"type\": \"contourcarpet\"}], \"heatmap\": [{\"colorbar\": {\"outlinewidth\": 0, \"ticks\": \"\"}, \"colorscale\": [[0.0, \"#0d0887\"], [0.1111111111111111, \"#46039f\"], [0.2222222222222222, \"#7201a8\"], [0.3333333333333333, \"#9c179e\"], [0.4444444444444444, \"#bd3786\"], [0.5555555555555556, \"#d8576b\"], [0.6666666666666666, \"#ed7953\"], [0.7777777777777778, \"#fb9f3a\"], [0.8888888888888888, \"#fdca26\"], [1.0, \"#f0f921\"]], \"type\": \"heatmap\"}], \"heatmapgl\": [{\"colorbar\": {\"outlinewidth\": 0, \"ticks\": \"\"}, \"colorscale\": [[0.0, \"#0d0887\"], [0.1111111111111111, \"#46039f\"], [0.2222222222222222, \"#7201a8\"], [0.3333333333333333, \"#9c179e\"], [0.4444444444444444, \"#bd3786\"], [0.5555555555555556, \"#d8576b\"], [0.6666666666666666, \"#ed7953\"], [0.7777777777777778, \"#fb9f3a\"], [0.8888888888888888, \"#fdca26\"], [1.0, \"#f0f921\"]], \"type\": \"heatmapgl\"}], \"histogram\": [{\"marker\": {\"colorbar\": {\"outlinewidth\": 0, \"ticks\": \"\"}}, \"type\": \"histogram\"}], \"histogram2d\": [{\"colorbar\": {\"outlinewidth\": 0, \"ticks\": \"\"}, \"colorscale\": [[0.0, \"#0d0887\"], [0.1111111111111111, \"#46039f\"], [0.2222222222222222, \"#7201a8\"], [0.3333333333333333, \"#9c179e\"], [0.4444444444444444, \"#bd3786\"], [0.5555555555555556, \"#d8576b\"], [0.6666666666666666, \"#ed7953\"], [0.7777777777777778, \"#fb9f3a\"], [0.8888888888888888, \"#fdca26\"], [1.0, \"#f0f921\"]], \"type\": \"histogram2d\"}], \"histogram2dcontour\": [{\"colorbar\": {\"outlinewidth\": 0, \"ticks\": \"\"}, \"colorscale\": [[0.0, \"#0d0887\"], [0.1111111111111111, \"#46039f\"], [0.2222222222222222, \"#7201a8\"], [0.3333333333333333, \"#9c179e\"], [0.4444444444444444, \"#bd3786\"], [0.5555555555555556, \"#d8576b\"], [0.6666666666666666, \"#ed7953\"], [0.7777777777777778, \"#fb9f3a\"], [0.8888888888888888, \"#fdca26\"], [1.0, \"#f0f921\"]], \"type\": \"histogram2dcontour\"}], \"mesh3d\": [{\"colorbar\": {\"outlinewidth\": 0, \"ticks\": \"\"}, \"type\": \"mesh3d\"}], \"parcoords\": [{\"line\": {\"colorbar\": {\"outlinewidth\": 0, \"ticks\": \"\"}}, \"type\": \"parcoords\"}], \"pie\": [{\"automargin\": true, \"type\": \"pie\"}], \"scatter\": [{\"marker\": {\"colorbar\": {\"outlinewidth\": 0, \"ticks\": \"\"}}, \"type\": \"scatter\"}], \"scatter3d\": [{\"line\": {\"colorbar\": {\"outlinewidth\": 0, \"ticks\": \"\"}}, \"marker\": {\"colorbar\": {\"outlinewidth\": 0, \"ticks\": \"\"}}, \"type\": \"scatter3d\"}], \"scattercarpet\": [{\"marker\": {\"colorbar\": {\"outlinewidth\": 0, \"ticks\": \"\"}}, \"type\": \"scattercarpet\"}], \"scattergeo\": [{\"marker\": {\"colorbar\": {\"outlinewidth\": 0, \"ticks\": \"\"}}, \"type\": \"scattergeo\"}], \"scattergl\": [{\"marker\": {\"colorbar\": {\"outlinewidth\": 0, \"ticks\": \"\"}}, \"type\": \"scattergl\"}], \"scattermapbox\": [{\"marker\": {\"colorbar\": {\"outlinewidth\": 0, \"ticks\": \"\"}}, \"type\": \"scattermapbox\"}], \"scatterpolar\": [{\"marker\": {\"colorbar\": {\"outlinewidth\": 0, \"ticks\": \"\"}}, \"type\": \"scatterpolar\"}], \"scatterpolargl\": [{\"marker\": {\"colorbar\": {\"outlinewidth\": 0, \"ticks\": \"\"}}, \"type\": \"scatterpolargl\"}], \"scatterternary\": [{\"marker\": {\"colorbar\": {\"outlinewidth\": 0, \"ticks\": \"\"}}, \"type\": \"scatterternary\"}], \"surface\": [{\"colorbar\": {\"outlinewidth\": 0, \"ticks\": \"\"}, \"colorscale\": [[0.0, \"#0d0887\"], [0.1111111111111111, \"#46039f\"], [0.2222222222222222, \"#7201a8\"], [0.3333333333333333, \"#9c179e\"], [0.4444444444444444, \"#bd3786\"], [0.5555555555555556, \"#d8576b\"], [0.6666666666666666, \"#ed7953\"], [0.7777777777777778, \"#fb9f3a\"], [0.8888888888888888, \"#fdca26\"], [1.0, \"#f0f921\"]], \"type\": \"surface\"}], \"table\": [{\"cells\": {\"fill\": {\"color\": \"#EBF0F8\"}, \"line\": {\"color\": \"white\"}}, \"header\": {\"fill\": {\"color\": \"#C8D4E3\"}, \"line\": {\"color\": \"white\"}}, \"type\": \"table\"}]}, \"layout\": {\"annotationdefaults\": {\"arrowcolor\": \"#2a3f5f\", \"arrowhead\": 0, \"arrowwidth\": 1}, \"coloraxis\": {\"colorbar\": {\"outlinewidth\": 0, \"ticks\": \"\"}}, \"colorscale\": {\"diverging\": [[0, \"#8e0152\"], [0.1, \"#c51b7d\"], [0.2, \"#de77ae\"], [0.3, \"#f1b6da\"], [0.4, \"#fde0ef\"], [0.5, \"#f7f7f7\"], [0.6, \"#e6f5d0\"], [0.7, \"#b8e186\"], [0.8, \"#7fbc41\"], [0.9, \"#4d9221\"], [1, \"#276419\"]], \"sequential\": [[0.0, \"#0d0887\"], [0.1111111111111111, \"#46039f\"], [0.2222222222222222, \"#7201a8\"], [0.3333333333333333, \"#9c179e\"], [0.4444444444444444, \"#bd3786\"], [0.5555555555555556, \"#d8576b\"], [0.6666666666666666, \"#ed7953\"], [0.7777777777777778, \"#fb9f3a\"], [0.8888888888888888, \"#fdca26\"], [1.0, \"#f0f921\"]], \"sequentialminus\": [[0.0, \"#0d0887\"], [0.1111111111111111, \"#46039f\"], [0.2222222222222222, \"#7201a8\"], [0.3333333333333333, \"#9c179e\"], [0.4444444444444444, \"#bd3786\"], [0.5555555555555556, \"#d8576b\"], [0.6666666666666666, \"#ed7953\"], [0.7777777777777778, \"#fb9f3a\"], [0.8888888888888888, \"#fdca26\"], [1.0, \"#f0f921\"]]}, \"colorway\": [\"#636efa\", \"#EF553B\", \"#00cc96\", \"#ab63fa\", \"#FFA15A\", \"#19d3f3\", \"#FF6692\", \"#B6E880\", \"#FF97FF\", \"#FECB52\"], \"font\": {\"color\": \"#2a3f5f\"}, \"geo\": {\"bgcolor\": \"white\", \"lakecolor\": \"white\", \"landcolor\": \"#E5ECF6\", \"showlakes\": true, \"showland\": true, \"subunitcolor\": \"white\"}, \"hoverlabel\": {\"align\": \"left\"}, \"hovermode\": \"closest\", \"mapbox\": {\"style\": \"light\"}, \"paper_bgcolor\": \"white\", \"plot_bgcolor\": \"#E5ECF6\", \"polar\": {\"angularaxis\": {\"gridcolor\": \"white\", \"linecolor\": \"white\", \"ticks\": \"\"}, \"bgcolor\": \"#E5ECF6\", \"radialaxis\": {\"gridcolor\": \"white\", \"linecolor\": \"white\", \"ticks\": \"\"}}, \"scene\": {\"xaxis\": {\"backgroundcolor\": \"#E5ECF6\", \"gridcolor\": \"white\", \"gridwidth\": 2, \"linecolor\": \"white\", \"showbackground\": true, \"ticks\": \"\", \"zerolinecolor\": \"white\"}, \"yaxis\": {\"backgroundcolor\": \"#E5ECF6\", \"gridcolor\": \"white\", \"gridwidth\": 2, \"linecolor\": \"white\", \"showbackground\": true, \"ticks\": \"\", \"zerolinecolor\": \"white\"}, \"zaxis\": {\"backgroundcolor\": \"#E5ECF6\", \"gridcolor\": \"white\", \"gridwidth\": 2, \"linecolor\": \"white\", \"showbackground\": true, \"ticks\": \"\", \"zerolinecolor\": \"white\"}}, \"shapedefaults\": {\"line\": {\"color\": \"#2a3f5f\"}}, \"ternary\": {\"aaxis\": {\"gridcolor\": \"white\", \"linecolor\": \"white\", \"ticks\": \"\"}, \"baxis\": {\"gridcolor\": \"white\", \"linecolor\": \"white\", \"ticks\": \"\"}, \"bgcolor\": \"#E5ECF6\", \"caxis\": {\"gridcolor\": \"white\", \"linecolor\": \"white\", \"ticks\": \"\"}}, \"title\": {\"x\": 0.05}, \"xaxis\": {\"automargin\": true, \"gridcolor\": \"white\", \"linecolor\": \"white\", \"ticks\": \"\", \"title\": {\"standoff\": 15}, \"zerolinecolor\": \"white\", \"zerolinewidth\": 2}, \"yaxis\": {\"automargin\": true, \"gridcolor\": \"white\", \"linecolor\": \"white\", \"ticks\": \"\", \"title\": {\"standoff\": 15}, \"zerolinecolor\": \"white\", \"zerolinewidth\": 2}}}, \"title\": {\"text\": \"Average Ratings\"}, \"xaxis\": {\"anchor\": \"y\", \"domain\": [0.0, 1.0], \"title\": {\"text\": \"vintage\"}}, \"yaxis\": {\"anchor\": \"x\", \"domain\": [0.0, 1.0], \"title\": {\"text\": \"rating\"}}},\n",
       "                        {\"responsive\": true}\n",
       "                    ).then(function(){\n",
       "                            \n",
       "var gd = document.getElementById('46bb46ed-59dc-42df-823c-4802affc3f92');\n",
       "var x = new MutationObserver(function (mutations, observer) {{\n",
       "        var display = window.getComputedStyle(gd).display;\n",
       "        if (!display || display === 'none') {{\n",
       "            console.log([gd, 'removed!']);\n",
       "            Plotly.purge(gd);\n",
       "            observer.disconnect();\n",
       "        }}\n",
       "}});\n",
       "\n",
       "// Listen for the removal of the full notebook cells\n",
       "var notebookContainer = gd.closest('#notebook-container');\n",
       "if (notebookContainer) {{\n",
       "    x.observe(notebookContainer, {childList: true});\n",
       "}}\n",
       "\n",
       "// Listen for the clearing of the current output cell\n",
       "var outputEl = gd.closest('.output');\n",
       "if (outputEl) {{\n",
       "    x.observe(outputEl, {childList: true});\n",
       "}}\n",
       "\n",
       "                        })\n",
       "                };\n",
       "                });\n",
       "            </script>\n",
       "        </div>"
      ]
     },
     "metadata": {},
     "output_type": "display_data"
    }
   ],
   "source": [
    "# what about rating vs vintage?  Let's focus on the years where we really have data\n",
    "vint_wine = wine[wine['vintage']>=1995]\n",
    "\n",
    "rating_freq = vint_wine[['name', 'vintage', 'rating']]\\\n",
    "                        .groupby(['vintage', 'rating']).count()\\\n",
    "                        .rename({'name': 'count'}, axis='columns')\n",
    "\n",
    "ax3 = px.scatter(rating_freq, x = rating_freq.index.get_level_values(0),\n",
    "                  y = rating_freq.index.get_level_values(1), size='count')\n",
    "\n",
    "\n",
    "\n",
    "#fig1 = px.scatter(vint_wine, x='vintage', y='rating', color = 'rater', hover_data = ['nameyear'])\n",
    "ax3.update_layout(title=\"All Ratings\")\n",
    "ax3.show()\n",
    "\n",
    "# try vintage/rating/count grouped by rater and sorted\n",
    "rated_wine = vint_wine[['name', 'vintage', 'rater', 'rating']]\\\n",
    "                        .groupby(['vintage', 'rater']).agg({'name': 'count', 'rating': 'mean'})\\\n",
    "                        .rename({'name': 'count'}, axis='columns')\n",
    "\n",
    "ax4 = px.scatter(rated_wine, x = rated_wine.index.get_level_values(0), y='rating', \n",
    "                  color=rated_wine.index.get_level_values(1), size='count')\n",
    "ax4.update_layout(\n",
    "    title=\"Average Ratings\",\n",
    "    xaxis_title=\"vintage\")\n",
    "ax4.show()\n",
    "\n",
    "# This means we'll be over-weighting recent vintages if we just do a regression\n",
    "# on the data. We could sample to reduce bias in the data. I expect prices cluster too.\n",
    "# We may not have enough of a spread of raters for the older ones though."
   ]
  },
  {
   "cell_type": "code",
   "execution_count": 19,
   "metadata": {},
   "outputs": [
    {
     "data": {
      "application/vnd.plotly.v1+json": {
       "config": {
        "plotlyServerURL": "https://plot.ly"
       },
       "data": [
        {
         "customdata": [
          [
           "Mendoza"
          ],
          [
           "Patagonia"
          ],
          [
           "Salta"
          ]
         ],
         "hovertemplate": "color=Argentina<br>price_per_750=%{x}<br>rating=%{y}<br>count=%{marker.size}<br>hover_data_0=%{customdata[0]}<extra></extra>",
         "legendgroup": "Argentina",
         "marker": {
          "color": "#636efa",
          "size": [
           84,
           4,
           2
          ],
          "sizemode": "area",
          "sizeref": 0.6888888888888889,
          "symbol": "circle"
         },
         "mode": "markers",
         "name": "Argentina",
         "showlegend": true,
         "type": "scatter",
         "x": [
          54.60821428571415,
          98.74,
          83.99000000000001
         ],
         "xaxis": "x",
         "y": [
          -1.244680685115274,
          1.1481764577418687,
          -0.3518235422581313
         ],
         "yaxis": "y"
        },
        {
         "customdata": [
          [
           "New South Wales"
          ],
          [
           "South Australia"
          ],
          [
           "Tasmania"
          ],
          [
           "Victoria"
          ],
          [
           "Western Australia"
          ]
         ],
         "hovertemplate": "color=Australia<br>price_per_750=%{x}<br>rating=%{y}<br>count=%{marker.size}<br>hover_data_0=%{customdata[0]}<extra></extra>",
         "legendgroup": "Australia",
         "marker": {
          "color": "#EF553B",
          "size": [
           1,
           153,
           2,
           12,
           34
          ],
          "sizemode": "area",
          "sizeref": 0.6888888888888889,
          "symbol": "circle"
         },
         "mode": "markers",
         "name": "Australia",
         "showlegend": true,
         "type": "scatter",
         "x": [
          49.99,
          94.64428104575144,
          74.99,
          49.655,
          83.87235294117637
         ],
         "xaxis": "x",
         "y": [
          -3.8518235422581313,
          -0.8191438036960398,
          -1.3518235422581313,
          -2.268490208924798,
          -1.0577058951993077
         ],
         "yaxis": "y"
        },
        {
         "customdata": [
          [
           "Burgenland"
          ],
          [
           "Kamptal"
          ],
          [
           "Wachau"
          ]
         ],
         "hovertemplate": "color=Austria<br>price_per_750=%{x}<br>rating=%{y}<br>count=%{marker.size}<br>hover_data_0=%{customdata[0]}<extra></extra>",
         "legendgroup": "Austria",
         "marker": {
          "color": "#00cc96",
          "size": [
           3,
           3,
           5
          ],
          "sizemode": "area",
          "sizeref": 0.6888888888888889,
          "symbol": "circle"
         },
         "mode": "markers",
         "name": "Austria",
         "showlegend": true,
         "type": "scatter",
         "x": [
          71.98,
          40.99,
          72.99
         ],
         "xaxis": "x",
         "y": [
          1.1481764577418687,
          -2.1851568755914648,
          0.14817645774186872
         ],
         "yaxis": "y"
        },
        {
         "customdata": [
          [
           "Aconcagua Valley"
          ],
          [
           "Casablanca Valley"
          ],
          [
           "Elqui Valley"
          ],
          [
           "Maipo Valley"
          ],
          [
           "Rapel Valley"
          ]
         ],
         "hovertemplate": "color=Chile<br>price_per_750=%{x}<br>rating=%{y}<br>count=%{marker.size}<br>hover_data_0=%{customdata[0]}<extra></extra>",
         "legendgroup": "Chile",
         "marker": {
          "color": "#ab63fa",
          "size": [
           11,
           1,
           1,
           16,
           14
          ],
          "sizemode": "area",
          "sizeref": 0.6888888888888889,
          "symbol": "circle"
         },
         "mode": "markers",
         "name": "Chile",
         "showlegend": true,
         "type": "scatter",
         "x": [
          149.99,
          25.99,
          15.99,
          108.5503125,
          100.34714285714287
         ],
         "xaxis": "x",
         "y": [
          1.7845400941055052,
          0.14817645774186872,
          -3.8518235422581313,
          0.21067645774186872,
          -1.137537827972417
         ],
         "yaxis": "y"
        },
        {
         "customdata": [
          [
           "Alsace"
          ],
          [
           "Bordeaux"
          ],
          [
           "Burgundy"
          ],
          [
           "Champagne"
          ],
          [
           "Jura"
          ],
          [
           "Languedoc-Roussillon"
          ],
          [
           "Loire"
          ],
          [
           "Provence"
          ],
          [
           "Rhone"
          ],
          [
           "Savoie"
          ],
          [
           "Southwest"
          ]
         ],
         "hovertemplate": "color=France<br>price_per_750=%{x}<br>rating=%{y}<br>count=%{marker.size}<br>hover_data_0=%{customdata[0]}<extra></extra>",
         "legendgroup": "France",
         "marker": {
          "color": "#FFA15A",
          "size": [
           21,
           2480,
           1025,
           489,
           2,
           29,
           14,
           13,
           383,
           1,
           1
          ],
          "sizemode": "area",
          "sizeref": 0.6888888888888889,
          "symbol": "circle"
         },
         "mode": "markers",
         "name": "France",
         "showlegend": true,
         "type": "scatter",
         "x": [
          31.942380952380955,
          133.42509761424265,
          159.50458536585313,
          128.21288903561052,
          59.49,
          50.09241379310346,
          53.63142857142857,
          46.605384615384615,
          162.1487010443861,
          29.99,
          44.985
         ],
         "xaxis": "x",
         "y": [
          -2.8518235422581313,
          1.2550312964515853,
          -1.2596284203069117,
          -1.1360771209902236,
          -1.3518235422581313,
          -2.265616645706407,
          -0.9946806851152742,
          -2.236438926873516,
          0.5972626196217645,
          -2.8518235422581313,
          -3.8518235422581313
         ],
         "yaxis": "y"
        },
        {
         "customdata": [
          [
           "Ahr"
          ],
          [
           "Baden"
          ],
          [
           "Mosel"
          ],
          [
           "Nahe"
          ],
          [
           "Rheingau"
          ]
         ],
         "hovertemplate": "color=Germany<br>price_per_750=%{x}<br>rating=%{y}<br>count=%{marker.size}<br>hover_data_0=%{customdata[0]}<extra></extra>",
         "legendgroup": "Germany",
         "marker": {
          "color": "#19d3f3",
          "size": [
           2,
           1,
           10,
           3,
           1
          ],
          "sizemode": "area",
          "sizeref": 0.6888888888888889,
          "symbol": "circle"
         },
         "mode": "markers",
         "name": "Germany",
         "showlegend": true,
         "type": "scatter",
         "x": [
          38.99,
          44.99,
          29.190000000000005,
          61.656666666666666,
          37.99
         ],
         "xaxis": "x",
         "y": [
          -3.3518235422581313,
          -3.8518235422581313,
          -3.0518235422581315,
          -1.8518235422581313,
          -1.8518235422581313
         ],
         "yaxis": "y"
        },
        {
         "customdata": [
          [
           "Macedonia"
          ],
          [
           "Santorini"
          ]
         ],
         "hovertemplate": "color=Greece<br>price_per_750=%{x}<br>rating=%{y}<br>count=%{marker.size}<br>hover_data_0=%{customdata[0]}<extra></extra>",
         "legendgroup": "Greece",
         "marker": {
          "color": "#FF6692",
          "size": [
           2,
           3
          ],
          "sizemode": "area",
          "sizeref": 0.6888888888888889,
          "symbol": "circle"
         },
         "mode": "markers",
         "name": "Greece",
         "showlegend": true,
         "type": "scatter",
         "x": [
          24.99,
          41.99
         ],
         "xaxis": "x",
         "y": [
          -1.8518235422581313,
          -3.518490208924798
         ],
         "yaxis": "y"
        },
        {
         "customdata": [
          [
           "Campania"
          ],
          [
           "Friuli-Venezia Giulia"
          ],
          [
           "Lombardy"
          ],
          [
           "Piedmont"
          ],
          [
           "Prosecco"
          ],
          [
           "Puglia"
          ],
          [
           "Sardinia"
          ],
          [
           "Sicily"
          ],
          [
           "Trentino-Alto Adige"
          ],
          [
           "Tuscany"
          ],
          [
           "Umbria"
          ],
          [
           "Veneto"
          ]
         ],
         "hovertemplate": "color=Italy<br>price_per_750=%{x}<br>rating=%{y}<br>count=%{marker.size}<br>hover_data_0=%{customdata[0]}<extra></extra>",
         "legendgroup": "Italy",
         "marker": {
          "color": "#B6E880",
          "size": [
           11,
           7,
           2,
           550,
           11,
           1,
           4,
           28,
           15,
           520,
           3,
           28
          ],
          "sizemode": "area",
          "sizeref": 0.6888888888888889,
          "symbol": "circle"
         },
         "mode": "markers",
         "name": "Italy",
         "showlegend": true,
         "type": "scatter",
         "x": [
          76.26113636363637,
          37.847142857142856,
          53.489999999999995,
          159.9498072727282,
          18.899090909090912,
          74.99,
          52.989999999999995,
          43.347142857142856,
          30.990000000000006,
          132.27745432692313,
          94.99,
          198.80821428571412
         ],
         "xaxis": "x",
         "y": [
          -1.2154599058944948,
          -2.7089663994009885,
          -2.3518235422581313,
          -0.1954599058944949,
          -3.033641724076313,
          -1.8518235422581313,
          -1.8518235422581313,
          -1.7803949708295599,
          -3.318490208924798,
          0.14433030389571488,
          -0.8518235422581313,
          -0.1732521136867027
         ],
         "yaxis": "y"
        },
        {
         "customdata": [
          [
           "Canterbury"
          ],
          [
           "Central Otago"
          ],
          [
           "Hawkes Bay"
          ],
          [
           "Marlborough"
          ],
          [
           "Martinborough"
          ]
         ],
         "hovertemplate": "color=New Zealand<br>price_per_750=%{x}<br>rating=%{y}<br>count=%{marker.size}<br>hover_data_0=%{customdata[0]}<extra></extra>",
         "legendgroup": "New Zealand",
         "marker": {
          "color": "#FF97FF",
          "size": [
           1,
           13,
           3,
           34,
           7
          ],
          "sizemode": "area",
          "sizeref": 0.6888888888888889,
          "symbol": "circle"
         },
         "mode": "markers",
         "name": "New Zealand",
         "showlegend": true,
         "type": "scatter",
         "x": [
          34.99,
          49.99,
          123.32333333333334,
          23.1664705882353,
          29.990000000000002
         ],
         "xaxis": "x",
         "y": [
          -2.8518235422581313,
          -2.313362003796593,
          -1.8518235422581313,
          -3.557705895199308,
          -2.8518235422581313
         ],
         "yaxis": "y"
        },
        {
         "customdata": [
          [
           "Douro"
          ],
          [
           "Madeira"
          ],
          [
           "Vinho Verde"
          ]
         ],
         "hovertemplate": "color=Portugal<br>price_per_750=%{x}<br>rating=%{y}<br>count=%{marker.size}<br>hover_data_0=%{customdata[0]}<extra></extra>",
         "legendgroup": "Portugal",
         "marker": {
          "color": "#FECB52",
          "size": [
           91,
           10,
           1
          ],
          "sizemode": "area",
          "sizeref": 0.6888888888888889,
          "symbol": "circle"
         },
         "mode": "markers",
         "name": "Portugal",
         "showlegend": true,
         "type": "scatter",
         "x": [
          111.63736263736247,
          51.79,
          9.99
         ],
         "xaxis": "x",
         "y": [
          1.4998248093902204,
          -3.3518235422581313,
          -5.851823542258131
         ],
         "yaxis": "y"
        },
        {
         "customdata": [
          [
           "Stellenbosch"
          ],
          [
           "Swartland"
          ]
         ],
         "hovertemplate": "color=South Africa<br>price_per_750=%{x}<br>rating=%{y}<br>count=%{marker.size}<br>hover_data_0=%{customdata[0]}<extra></extra>",
         "legendgroup": "South Africa",
         "marker": {
          "color": "#636efa",
          "size": [
           5,
           7
          ],
          "sizemode": "area",
          "sizeref": 0.6888888888888889,
          "symbol": "circle"
         },
         "mode": "markers",
         "name": "South Africa",
         "showlegend": true,
         "type": "scatter",
         "x": [
          45.99,
          105.99000000000001
         ],
         "xaxis": "x",
         "y": [
          -3.0518235422581315,
          -1.4232521136867027
         ],
         "yaxis": "y"
        },
        {
         "customdata": [
          [
           "Bierzo"
          ],
          [
           "Jerez"
          ],
          [
           "Jumilla"
          ],
          [
           "Montsant"
          ],
          [
           "Navarra"
          ],
          [
           "Penedes"
          ],
          [
           "Priorat"
          ],
          [
           "Rias Baixas"
          ],
          [
           "Ribera del Duero"
          ],
          [
           "Rioja"
          ],
          [
           "Rueda"
          ],
          [
           "Terra Alta"
          ],
          [
           "Toro"
          ]
         ],
         "hovertemplate": "color=Spain<br>price_per_750=%{x}<br>rating=%{y}<br>count=%{marker.size}<br>hover_data_0=%{customdata[0]}<extra></extra>",
         "legendgroup": "Spain",
         "marker": {
          "color": "#EF553B",
          "size": [
           9,
           25,
           2,
           3,
           2,
           7,
           16,
           7,
           36,
           117,
           3,
           1,
           12
          ],
          "sizemode": "area",
          "sizeref": 0.6888888888888889,
          "symbol": "circle"
         },
         "mode": "markers",
         "name": "Spain",
         "showlegend": true,
         "type": "scatter",
         "x": [
          52.21222222222222,
          86.34599999999999,
          17.49,
          103.32333333333334,
          57.489999999999995,
          35.84714285714286,
          88.61375000000001,
          25.132857142857144,
          151.26777777777772,
          65.31012820512805,
          17.99,
          47.99,
          64.99
         ],
         "xaxis": "x",
         "y": [
          -0.5184902089247979,
          -1.0118235422581312,
          -1.8518235422581313,
          3.1481764577418687,
          -1.3518235422581313,
          -3.137537827972417,
          -0.9143235422581313,
          -2.423252113686703,
          -0.6296013200359091,
          -0.6381483285829176,
          -3.8518235422581313,
          -3.8518235422581313,
          -0.4351568755914646
         ],
         "yaxis": "y"
        },
        {
         "customdata": [
          [
           "California"
          ],
          [
           "Oregon"
          ],
          [
           "Other U.S."
          ],
          [
           "Washington"
          ]
         ],
         "hovertemplate": "color=USA<br>price_per_750=%{x}<br>rating=%{y}<br>count=%{marker.size}<br>hover_data_0=%{customdata[0]}<extra></extra>",
         "legendgroup": "USA",
         "marker": {
          "color": "#00cc96",
          "size": [
           2186,
           87,
           1,
           258
          ],
          "sizemode": "area",
          "sizeref": 0.6888888888888889,
          "symbol": "circle"
         },
         "mode": "markers",
         "name": "USA",
         "showlegend": true,
         "type": "scatter",
         "x": [
          168.4226978880697,
          54.162528735632044,
          15.99,
          99.4377713178299
         ],
         "xaxis": "x",
         "y": [
          -0.014220614536258386,
          -1.9782603238673266,
          -3.8518235422581313,
          -0.37120338721937157
         ],
         "yaxis": "y"
        },
        {
         "name": "Regression",
         "type": "scatter",
         "x": [
          10.061956089168262,
          11.952359844870145,
          13.842763600572027,
          15.733167356273881,
          17.623571111975778,
          19.513974867677632,
          21.4043786233795,
          23.294782379081383,
          25.18518613478325,
          27.075589890485134,
          28.965993646187002,
          30.856397401888884,
          32.74680115759075,
          34.63720491329262,
          36.5276086689945,
          38.41801242469637,
          40.308416180398254,
          42.19881993610012,
          44.089223691802005,
          45.97962744750387,
          47.87003120320574,
          49.760434958907624,
          51.65083871460949,
          53.541242470311374,
          55.43164622601324,
          57.32204998171511,
          59.21245373741699,
          61.10285749311886,
          62.993261248820744,
          64.8836650045226,
          66.77406876022448,
          68.66447251592635,
          70.55487627162823,
          72.4452800273301,
          74.33568378303198,
          76.22608753873385,
          78.11649129443572,
          80.00689505013759,
          81.89729880583947,
          83.78770256154135,
          85.67810631724322,
          87.56851007294509,
          89.45891382864696,
          91.34931758434882,
          93.2397213400507,
          95.13012509575259,
          97.02052885145446,
          98.91093260715633,
          100.8013363628582,
          102.69174011856008,
          104.58214387426196,
          106.47254762996383,
          108.3629513856657,
          110.25335514136756,
          112.14375889706945,
          114.03416265277131,
          115.9245664084732,
          117.81497016417507,
          119.70537391987693,
          121.59577767557882,
          123.48618143128068,
          125.37658518698257,
          127.26698894268443,
          129.15739269838633,
          131.04779645408817,
          132.93820020979004,
          134.82860396549194,
          136.7190077211938,
          138.60941147689567,
          140.49981523259754,
          142.39021898829944,
          144.2806227440013,
          146.17102649970317,
          148.06143025540504,
          149.9518340111069,
          151.8422377668088,
          153.73264152251068,
          155.62304527821254,
          157.5134490339144,
          159.40385278961628,
          161.29425654531815,
          163.18466030102002,
          165.0750640567219,
          166.96546781242378,
          168.85587156812565,
          170.74627532382755,
          172.6366790795294,
          174.52708283523128,
          176.41748659093315,
          178.30789034663502,
          180.1982941023369,
          182.08869785803876,
          183.97910161374065,
          185.86950536944252,
          187.7599091251444,
          189.65031288084626,
          191.54071663654813,
          193.43112039225002,
          195.3215241479519,
          197.21192790365376
         ],
         "y": [
          -5.5,
          -5.41919191919192,
          -5.338383838383838,
          -5.257575757575758,
          -5.1767676767676765,
          -5.095959595959596,
          -5.015151515151516,
          -4.934343434343434,
          -4.853535353535354,
          -4.7727272727272725,
          -4.691919191919192,
          -4.611111111111111,
          -4.53030303030303,
          -4.44949494949495,
          -4.3686868686868685,
          -4.287878787878788,
          -4.207070707070707,
          -4.126262626262626,
          -4.045454545454545,
          -3.9646464646464645,
          -3.8838383838383836,
          -3.8030303030303028,
          -3.7222222222222223,
          -3.641414141414141,
          -3.5606060606060606,
          -3.4797979797979797,
          -3.398989898989899,
          -3.318181818181818,
          -3.237373737373737,
          -3.1565656565656566,
          -3.0757575757575757,
          -2.994949494949495,
          -2.914141414141414,
          -2.833333333333333,
          -2.752525252525252,
          -2.6717171717171713,
          -2.590909090909091,
          -2.51010101010101,
          -2.429292929292929,
          -2.348484848484848,
          -2.2676767676767673,
          -2.1868686868686864,
          -2.106060606060606,
          -2.025252525252525,
          -1.9444444444444442,
          -1.8636363636363633,
          -1.7828282828282824,
          -1.7020202020202015,
          -1.621212121212121,
          -1.5404040404040402,
          -1.4595959595959593,
          -1.378787878787878,
          -1.2979797979797976,
          -1.2171717171717171,
          -1.1363636363636358,
          -1.0555555555555554,
          -0.974747474747474,
          -0.8939393939393936,
          -0.8131313131313131,
          -0.7323232323232318,
          -0.6515151515151514,
          -0.57070707070707,
          -0.4898989898989896,
          -0.4090909090909083,
          -0.32828282828282784,
          -0.2474747474747474,
          -0.16666666666666607,
          -0.08585858585858563,
          -0.005050505050504306,
          0.07575757575757613,
          0.15656565656565746,
          0.2373737373737379,
          0.31818181818181834,
          0.39898989898989967,
          0.4797979797979801,
          0.5606060606060614,
          0.6414141414141419,
          0.7222222222222223,
          0.8030303030303036,
          0.8838383838383841,
          0.9646464646464654,
          1.0454545454545459,
          1.1262626262626272,
          1.2070707070707076,
          1.287878787878788,
          1.3686868686868694,
          1.4494949494949498,
          1.5303030303030312,
          1.6111111111111116,
          1.691919191919193,
          1.7727272727272734,
          1.8535353535353538,
          1.9343434343434351,
          2.0151515151515156,
          2.095959595959597,
          2.1767676767676774,
          2.257575757575758,
          2.338383838383839,
          2.4191919191919196,
          2.5
         ]
        }
       ],
       "layout": {
        "legend": {
         "itemsizing": "constant",
         "title": {
          "text": "color"
         },
         "tracegroupgap": 0
        },
        "margin": {
         "t": 60
        },
        "template": {
         "data": {
          "bar": [
           {
            "error_x": {
             "color": "#2a3f5f"
            },
            "error_y": {
             "color": "#2a3f5f"
            },
            "marker": {
             "line": {
              "color": "#E5ECF6",
              "width": 0.5
             }
            },
            "type": "bar"
           }
          ],
          "barpolar": [
           {
            "marker": {
             "line": {
              "color": "#E5ECF6",
              "width": 0.5
             }
            },
            "type": "barpolar"
           }
          ],
          "carpet": [
           {
            "aaxis": {
             "endlinecolor": "#2a3f5f",
             "gridcolor": "white",
             "linecolor": "white",
             "minorgridcolor": "white",
             "startlinecolor": "#2a3f5f"
            },
            "baxis": {
             "endlinecolor": "#2a3f5f",
             "gridcolor": "white",
             "linecolor": "white",
             "minorgridcolor": "white",
             "startlinecolor": "#2a3f5f"
            },
            "type": "carpet"
           }
          ],
          "choropleth": [
           {
            "colorbar": {
             "outlinewidth": 0,
             "ticks": ""
            },
            "type": "choropleth"
           }
          ],
          "contour": [
           {
            "colorbar": {
             "outlinewidth": 0,
             "ticks": ""
            },
            "colorscale": [
             [
              0,
              "#0d0887"
             ],
             [
              0.1111111111111111,
              "#46039f"
             ],
             [
              0.2222222222222222,
              "#7201a8"
             ],
             [
              0.3333333333333333,
              "#9c179e"
             ],
             [
              0.4444444444444444,
              "#bd3786"
             ],
             [
              0.5555555555555556,
              "#d8576b"
             ],
             [
              0.6666666666666666,
              "#ed7953"
             ],
             [
              0.7777777777777778,
              "#fb9f3a"
             ],
             [
              0.8888888888888888,
              "#fdca26"
             ],
             [
              1,
              "#f0f921"
             ]
            ],
            "type": "contour"
           }
          ],
          "contourcarpet": [
           {
            "colorbar": {
             "outlinewidth": 0,
             "ticks": ""
            },
            "type": "contourcarpet"
           }
          ],
          "heatmap": [
           {
            "colorbar": {
             "outlinewidth": 0,
             "ticks": ""
            },
            "colorscale": [
             [
              0,
              "#0d0887"
             ],
             [
              0.1111111111111111,
              "#46039f"
             ],
             [
              0.2222222222222222,
              "#7201a8"
             ],
             [
              0.3333333333333333,
              "#9c179e"
             ],
             [
              0.4444444444444444,
              "#bd3786"
             ],
             [
              0.5555555555555556,
              "#d8576b"
             ],
             [
              0.6666666666666666,
              "#ed7953"
             ],
             [
              0.7777777777777778,
              "#fb9f3a"
             ],
             [
              0.8888888888888888,
              "#fdca26"
             ],
             [
              1,
              "#f0f921"
             ]
            ],
            "type": "heatmap"
           }
          ],
          "heatmapgl": [
           {
            "colorbar": {
             "outlinewidth": 0,
             "ticks": ""
            },
            "colorscale": [
             [
              0,
              "#0d0887"
             ],
             [
              0.1111111111111111,
              "#46039f"
             ],
             [
              0.2222222222222222,
              "#7201a8"
             ],
             [
              0.3333333333333333,
              "#9c179e"
             ],
             [
              0.4444444444444444,
              "#bd3786"
             ],
             [
              0.5555555555555556,
              "#d8576b"
             ],
             [
              0.6666666666666666,
              "#ed7953"
             ],
             [
              0.7777777777777778,
              "#fb9f3a"
             ],
             [
              0.8888888888888888,
              "#fdca26"
             ],
             [
              1,
              "#f0f921"
             ]
            ],
            "type": "heatmapgl"
           }
          ],
          "histogram": [
           {
            "marker": {
             "colorbar": {
              "outlinewidth": 0,
              "ticks": ""
             }
            },
            "type": "histogram"
           }
          ],
          "histogram2d": [
           {
            "colorbar": {
             "outlinewidth": 0,
             "ticks": ""
            },
            "colorscale": [
             [
              0,
              "#0d0887"
             ],
             [
              0.1111111111111111,
              "#46039f"
             ],
             [
              0.2222222222222222,
              "#7201a8"
             ],
             [
              0.3333333333333333,
              "#9c179e"
             ],
             [
              0.4444444444444444,
              "#bd3786"
             ],
             [
              0.5555555555555556,
              "#d8576b"
             ],
             [
              0.6666666666666666,
              "#ed7953"
             ],
             [
              0.7777777777777778,
              "#fb9f3a"
             ],
             [
              0.8888888888888888,
              "#fdca26"
             ],
             [
              1,
              "#f0f921"
             ]
            ],
            "type": "histogram2d"
           }
          ],
          "histogram2dcontour": [
           {
            "colorbar": {
             "outlinewidth": 0,
             "ticks": ""
            },
            "colorscale": [
             [
              0,
              "#0d0887"
             ],
             [
              0.1111111111111111,
              "#46039f"
             ],
             [
              0.2222222222222222,
              "#7201a8"
             ],
             [
              0.3333333333333333,
              "#9c179e"
             ],
             [
              0.4444444444444444,
              "#bd3786"
             ],
             [
              0.5555555555555556,
              "#d8576b"
             ],
             [
              0.6666666666666666,
              "#ed7953"
             ],
             [
              0.7777777777777778,
              "#fb9f3a"
             ],
             [
              0.8888888888888888,
              "#fdca26"
             ],
             [
              1,
              "#f0f921"
             ]
            ],
            "type": "histogram2dcontour"
           }
          ],
          "mesh3d": [
           {
            "colorbar": {
             "outlinewidth": 0,
             "ticks": ""
            },
            "type": "mesh3d"
           }
          ],
          "parcoords": [
           {
            "line": {
             "colorbar": {
              "outlinewidth": 0,
              "ticks": ""
             }
            },
            "type": "parcoords"
           }
          ],
          "pie": [
           {
            "automargin": true,
            "type": "pie"
           }
          ],
          "scatter": [
           {
            "marker": {
             "colorbar": {
              "outlinewidth": 0,
              "ticks": ""
             }
            },
            "type": "scatter"
           }
          ],
          "scatter3d": [
           {
            "line": {
             "colorbar": {
              "outlinewidth": 0,
              "ticks": ""
             }
            },
            "marker": {
             "colorbar": {
              "outlinewidth": 0,
              "ticks": ""
             }
            },
            "type": "scatter3d"
           }
          ],
          "scattercarpet": [
           {
            "marker": {
             "colorbar": {
              "outlinewidth": 0,
              "ticks": ""
             }
            },
            "type": "scattercarpet"
           }
          ],
          "scattergeo": [
           {
            "marker": {
             "colorbar": {
              "outlinewidth": 0,
              "ticks": ""
             }
            },
            "type": "scattergeo"
           }
          ],
          "scattergl": [
           {
            "marker": {
             "colorbar": {
              "outlinewidth": 0,
              "ticks": ""
             }
            },
            "type": "scattergl"
           }
          ],
          "scattermapbox": [
           {
            "marker": {
             "colorbar": {
              "outlinewidth": 0,
              "ticks": ""
             }
            },
            "type": "scattermapbox"
           }
          ],
          "scatterpolar": [
           {
            "marker": {
             "colorbar": {
              "outlinewidth": 0,
              "ticks": ""
             }
            },
            "type": "scatterpolar"
           }
          ],
          "scatterpolargl": [
           {
            "marker": {
             "colorbar": {
              "outlinewidth": 0,
              "ticks": ""
             }
            },
            "type": "scatterpolargl"
           }
          ],
          "scatterternary": [
           {
            "marker": {
             "colorbar": {
              "outlinewidth": 0,
              "ticks": ""
             }
            },
            "type": "scatterternary"
           }
          ],
          "surface": [
           {
            "colorbar": {
             "outlinewidth": 0,
             "ticks": ""
            },
            "colorscale": [
             [
              0,
              "#0d0887"
             ],
             [
              0.1111111111111111,
              "#46039f"
             ],
             [
              0.2222222222222222,
              "#7201a8"
             ],
             [
              0.3333333333333333,
              "#9c179e"
             ],
             [
              0.4444444444444444,
              "#bd3786"
             ],
             [
              0.5555555555555556,
              "#d8576b"
             ],
             [
              0.6666666666666666,
              "#ed7953"
             ],
             [
              0.7777777777777778,
              "#fb9f3a"
             ],
             [
              0.8888888888888888,
              "#fdca26"
             ],
             [
              1,
              "#f0f921"
             ]
            ],
            "type": "surface"
           }
          ],
          "table": [
           {
            "cells": {
             "fill": {
              "color": "#EBF0F8"
             },
             "line": {
              "color": "white"
             }
            },
            "header": {
             "fill": {
              "color": "#C8D4E3"
             },
             "line": {
              "color": "white"
             }
            },
            "type": "table"
           }
          ]
         },
         "layout": {
          "annotationdefaults": {
           "arrowcolor": "#2a3f5f",
           "arrowhead": 0,
           "arrowwidth": 1
          },
          "coloraxis": {
           "colorbar": {
            "outlinewidth": 0,
            "ticks": ""
           }
          },
          "colorscale": {
           "diverging": [
            [
             0,
             "#8e0152"
            ],
            [
             0.1,
             "#c51b7d"
            ],
            [
             0.2,
             "#de77ae"
            ],
            [
             0.3,
             "#f1b6da"
            ],
            [
             0.4,
             "#fde0ef"
            ],
            [
             0.5,
             "#f7f7f7"
            ],
            [
             0.6,
             "#e6f5d0"
            ],
            [
             0.7,
             "#b8e186"
            ],
            [
             0.8,
             "#7fbc41"
            ],
            [
             0.9,
             "#4d9221"
            ],
            [
             1,
             "#276419"
            ]
           ],
           "sequential": [
            [
             0,
             "#0d0887"
            ],
            [
             0.1111111111111111,
             "#46039f"
            ],
            [
             0.2222222222222222,
             "#7201a8"
            ],
            [
             0.3333333333333333,
             "#9c179e"
            ],
            [
             0.4444444444444444,
             "#bd3786"
            ],
            [
             0.5555555555555556,
             "#d8576b"
            ],
            [
             0.6666666666666666,
             "#ed7953"
            ],
            [
             0.7777777777777778,
             "#fb9f3a"
            ],
            [
             0.8888888888888888,
             "#fdca26"
            ],
            [
             1,
             "#f0f921"
            ]
           ],
           "sequentialminus": [
            [
             0,
             "#0d0887"
            ],
            [
             0.1111111111111111,
             "#46039f"
            ],
            [
             0.2222222222222222,
             "#7201a8"
            ],
            [
             0.3333333333333333,
             "#9c179e"
            ],
            [
             0.4444444444444444,
             "#bd3786"
            ],
            [
             0.5555555555555556,
             "#d8576b"
            ],
            [
             0.6666666666666666,
             "#ed7953"
            ],
            [
             0.7777777777777778,
             "#fb9f3a"
            ],
            [
             0.8888888888888888,
             "#fdca26"
            ],
            [
             1,
             "#f0f921"
            ]
           ]
          },
          "colorway": [
           "#636efa",
           "#EF553B",
           "#00cc96",
           "#ab63fa",
           "#FFA15A",
           "#19d3f3",
           "#FF6692",
           "#B6E880",
           "#FF97FF",
           "#FECB52"
          ],
          "font": {
           "color": "#2a3f5f"
          },
          "geo": {
           "bgcolor": "white",
           "lakecolor": "white",
           "landcolor": "#E5ECF6",
           "showlakes": true,
           "showland": true,
           "subunitcolor": "white"
          },
          "hoverlabel": {
           "align": "left"
          },
          "hovermode": "closest",
          "mapbox": {
           "style": "light"
          },
          "paper_bgcolor": "white",
          "plot_bgcolor": "#E5ECF6",
          "polar": {
           "angularaxis": {
            "gridcolor": "white",
            "linecolor": "white",
            "ticks": ""
           },
           "bgcolor": "#E5ECF6",
           "radialaxis": {
            "gridcolor": "white",
            "linecolor": "white",
            "ticks": ""
           }
          },
          "scene": {
           "xaxis": {
            "backgroundcolor": "#E5ECF6",
            "gridcolor": "white",
            "gridwidth": 2,
            "linecolor": "white",
            "showbackground": true,
            "ticks": "",
            "zerolinecolor": "white"
           },
           "yaxis": {
            "backgroundcolor": "#E5ECF6",
            "gridcolor": "white",
            "gridwidth": 2,
            "linecolor": "white",
            "showbackground": true,
            "ticks": "",
            "zerolinecolor": "white"
           },
           "zaxis": {
            "backgroundcolor": "#E5ECF6",
            "gridcolor": "white",
            "gridwidth": 2,
            "linecolor": "white",
            "showbackground": true,
            "ticks": "",
            "zerolinecolor": "white"
           }
          },
          "shapedefaults": {
           "line": {
            "color": "#2a3f5f"
           }
          },
          "ternary": {
           "aaxis": {
            "gridcolor": "white",
            "linecolor": "white",
            "ticks": ""
           },
           "baxis": {
            "gridcolor": "white",
            "linecolor": "white",
            "ticks": ""
           },
           "bgcolor": "#E5ECF6",
           "caxis": {
            "gridcolor": "white",
            "linecolor": "white",
            "ticks": ""
           }
          },
          "title": {
           "x": 0.05
          },
          "xaxis": {
           "automargin": true,
           "gridcolor": "white",
           "linecolor": "white",
           "ticks": "",
           "title": {
            "standoff": 15
           },
           "zerolinecolor": "white",
           "zerolinewidth": 2
          },
          "yaxis": {
           "automargin": true,
           "gridcolor": "white",
           "linecolor": "white",
           "ticks": "",
           "title": {
            "standoff": 15
           },
           "zerolinecolor": "white",
           "zerolinewidth": 2
          }
         }
        },
        "title": {
         "text": "Rating vs Price by Region"
        },
        "xaxis": {
         "anchor": "y",
         "domain": [
          0,
          1
         ],
         "title": {
          "text": "price for 750ml"
         }
        },
        "yaxis": {
         "anchor": "x",
         "domain": [
          0,
          1
         ],
         "title": {
          "text": "rating"
         }
        }
       }
      },
      "text/html": [
       "<div>\n",
       "        \n",
       "        \n",
       "            <div id=\"c9a4ed28-ccea-4d5f-917a-2968f01ae5ce\" class=\"plotly-graph-div\" style=\"height:525px; width:100%;\"></div>\n",
       "            <script type=\"text/javascript\">\n",
       "                require([\"plotly\"], function(Plotly) {\n",
       "                    window.PLOTLYENV=window.PLOTLYENV || {};\n",
       "                    \n",
       "                if (document.getElementById(\"c9a4ed28-ccea-4d5f-917a-2968f01ae5ce\")) {\n",
       "                    Plotly.newPlot(\n",
       "                        'c9a4ed28-ccea-4d5f-917a-2968f01ae5ce',\n",
       "                        [{\"customdata\": [[\"Mendoza\"], [\"Patagonia\"], [\"Salta\"]], \"hovertemplate\": \"color=Argentina<br>price_per_750=%{x}<br>rating=%{y}<br>count=%{marker.size}<br>hover_data_0=%{customdata[0]}<extra></extra>\", \"legendgroup\": \"Argentina\", \"marker\": {\"color\": \"#636efa\", \"size\": [84, 4, 2], \"sizemode\": \"area\", \"sizeref\": 0.6888888888888889, \"symbol\": \"circle\"}, \"mode\": \"markers\", \"name\": \"Argentina\", \"showlegend\": true, \"type\": \"scatter\", \"x\": [54.60821428571415, 98.74, 83.99000000000001], \"xaxis\": \"x\", \"y\": [-1.244680685115274, 1.1481764577418687, -0.3518235422581313], \"yaxis\": \"y\"}, {\"customdata\": [[\"New South Wales\"], [\"South Australia\"], [\"Tasmania\"], [\"Victoria\"], [\"Western Australia\"]], \"hovertemplate\": \"color=Australia<br>price_per_750=%{x}<br>rating=%{y}<br>count=%{marker.size}<br>hover_data_0=%{customdata[0]}<extra></extra>\", \"legendgroup\": \"Australia\", \"marker\": {\"color\": \"#EF553B\", \"size\": [1, 153, 2, 12, 34], \"sizemode\": \"area\", \"sizeref\": 0.6888888888888889, \"symbol\": \"circle\"}, \"mode\": \"markers\", \"name\": \"Australia\", \"showlegend\": true, \"type\": \"scatter\", \"x\": [49.99, 94.64428104575144, 74.99, 49.655, 83.87235294117637], \"xaxis\": \"x\", \"y\": [-3.8518235422581313, -0.8191438036960398, -1.3518235422581313, -2.268490208924798, -1.0577058951993077], \"yaxis\": \"y\"}, {\"customdata\": [[\"Burgenland\"], [\"Kamptal\"], [\"Wachau\"]], \"hovertemplate\": \"color=Austria<br>price_per_750=%{x}<br>rating=%{y}<br>count=%{marker.size}<br>hover_data_0=%{customdata[0]}<extra></extra>\", \"legendgroup\": \"Austria\", \"marker\": {\"color\": \"#00cc96\", \"size\": [3, 3, 5], \"sizemode\": \"area\", \"sizeref\": 0.6888888888888889, \"symbol\": \"circle\"}, \"mode\": \"markers\", \"name\": \"Austria\", \"showlegend\": true, \"type\": \"scatter\", \"x\": [71.98, 40.99, 72.99], \"xaxis\": \"x\", \"y\": [1.1481764577418687, -2.1851568755914648, 0.14817645774186872], \"yaxis\": \"y\"}, {\"customdata\": [[\"Aconcagua Valley\"], [\"Casablanca Valley\"], [\"Elqui Valley\"], [\"Maipo Valley\"], [\"Rapel Valley\"]], \"hovertemplate\": \"color=Chile<br>price_per_750=%{x}<br>rating=%{y}<br>count=%{marker.size}<br>hover_data_0=%{customdata[0]}<extra></extra>\", \"legendgroup\": \"Chile\", \"marker\": {\"color\": \"#ab63fa\", \"size\": [11, 1, 1, 16, 14], \"sizemode\": \"area\", \"sizeref\": 0.6888888888888889, \"symbol\": \"circle\"}, \"mode\": \"markers\", \"name\": \"Chile\", \"showlegend\": true, \"type\": \"scatter\", \"x\": [149.99, 25.99, 15.99, 108.5503125, 100.34714285714287], \"xaxis\": \"x\", \"y\": [1.7845400941055052, 0.14817645774186872, -3.8518235422581313, 0.21067645774186872, -1.137537827972417], \"yaxis\": \"y\"}, {\"customdata\": [[\"Alsace\"], [\"Bordeaux\"], [\"Burgundy\"], [\"Champagne\"], [\"Jura\"], [\"Languedoc-Roussillon\"], [\"Loire\"], [\"Provence\"], [\"Rhone\"], [\"Savoie\"], [\"Southwest\"]], \"hovertemplate\": \"color=France<br>price_per_750=%{x}<br>rating=%{y}<br>count=%{marker.size}<br>hover_data_0=%{customdata[0]}<extra></extra>\", \"legendgroup\": \"France\", \"marker\": {\"color\": \"#FFA15A\", \"size\": [21, 2480, 1025, 489, 2, 29, 14, 13, 383, 1, 1], \"sizemode\": \"area\", \"sizeref\": 0.6888888888888889, \"symbol\": \"circle\"}, \"mode\": \"markers\", \"name\": \"France\", \"showlegend\": true, \"type\": \"scatter\", \"x\": [31.942380952380955, 133.42509761424265, 159.50458536585313, 128.21288903561052, 59.49, 50.09241379310346, 53.63142857142857, 46.605384615384615, 162.1487010443861, 29.99, 44.985], \"xaxis\": \"x\", \"y\": [-2.8518235422581313, 1.2550312964515853, -1.2596284203069117, -1.1360771209902236, -1.3518235422581313, -2.265616645706407, -0.9946806851152742, -2.236438926873516, 0.5972626196217645, -2.8518235422581313, -3.8518235422581313], \"yaxis\": \"y\"}, {\"customdata\": [[\"Ahr\"], [\"Baden\"], [\"Mosel\"], [\"Nahe\"], [\"Rheingau\"]], \"hovertemplate\": \"color=Germany<br>price_per_750=%{x}<br>rating=%{y}<br>count=%{marker.size}<br>hover_data_0=%{customdata[0]}<extra></extra>\", \"legendgroup\": \"Germany\", \"marker\": {\"color\": \"#19d3f3\", \"size\": [2, 1, 10, 3, 1], \"sizemode\": \"area\", \"sizeref\": 0.6888888888888889, \"symbol\": \"circle\"}, \"mode\": \"markers\", \"name\": \"Germany\", \"showlegend\": true, \"type\": \"scatter\", \"x\": [38.99, 44.99, 29.190000000000005, 61.656666666666666, 37.99], \"xaxis\": \"x\", \"y\": [-3.3518235422581313, -3.8518235422581313, -3.0518235422581315, -1.8518235422581313, -1.8518235422581313], \"yaxis\": \"y\"}, {\"customdata\": [[\"Macedonia\"], [\"Santorini\"]], \"hovertemplate\": \"color=Greece<br>price_per_750=%{x}<br>rating=%{y}<br>count=%{marker.size}<br>hover_data_0=%{customdata[0]}<extra></extra>\", \"legendgroup\": \"Greece\", \"marker\": {\"color\": \"#FF6692\", \"size\": [2, 3], \"sizemode\": \"area\", \"sizeref\": 0.6888888888888889, \"symbol\": \"circle\"}, \"mode\": \"markers\", \"name\": \"Greece\", \"showlegend\": true, \"type\": \"scatter\", \"x\": [24.99, 41.99], \"xaxis\": \"x\", \"y\": [-1.8518235422581313, -3.518490208924798], \"yaxis\": \"y\"}, {\"customdata\": [[\"Campania\"], [\"Friuli-Venezia Giulia\"], [\"Lombardy\"], [\"Piedmont\"], [\"Prosecco\"], [\"Puglia\"], [\"Sardinia\"], [\"Sicily\"], [\"Trentino-Alto Adige\"], [\"Tuscany\"], [\"Umbria\"], [\"Veneto\"]], \"hovertemplate\": \"color=Italy<br>price_per_750=%{x}<br>rating=%{y}<br>count=%{marker.size}<br>hover_data_0=%{customdata[0]}<extra></extra>\", \"legendgroup\": \"Italy\", \"marker\": {\"color\": \"#B6E880\", \"size\": [11, 7, 2, 550, 11, 1, 4, 28, 15, 520, 3, 28], \"sizemode\": \"area\", \"sizeref\": 0.6888888888888889, \"symbol\": \"circle\"}, \"mode\": \"markers\", \"name\": \"Italy\", \"showlegend\": true, \"type\": \"scatter\", \"x\": [76.26113636363637, 37.847142857142856, 53.489999999999995, 159.9498072727282, 18.899090909090912, 74.99, 52.989999999999995, 43.347142857142856, 30.990000000000006, 132.27745432692313, 94.99, 198.80821428571412], \"xaxis\": \"x\", \"y\": [-1.2154599058944948, -2.7089663994009885, -2.3518235422581313, -0.1954599058944949, -3.033641724076313, -1.8518235422581313, -1.8518235422581313, -1.7803949708295599, -3.318490208924798, 0.14433030389571488, -0.8518235422581313, -0.1732521136867027], \"yaxis\": \"y\"}, {\"customdata\": [[\"Canterbury\"], [\"Central Otago\"], [\"Hawkes Bay\"], [\"Marlborough\"], [\"Martinborough\"]], \"hovertemplate\": \"color=New Zealand<br>price_per_750=%{x}<br>rating=%{y}<br>count=%{marker.size}<br>hover_data_0=%{customdata[0]}<extra></extra>\", \"legendgroup\": \"New Zealand\", \"marker\": {\"color\": \"#FF97FF\", \"size\": [1, 13, 3, 34, 7], \"sizemode\": \"area\", \"sizeref\": 0.6888888888888889, \"symbol\": \"circle\"}, \"mode\": \"markers\", \"name\": \"New Zealand\", \"showlegend\": true, \"type\": \"scatter\", \"x\": [34.99, 49.99, 123.32333333333334, 23.1664705882353, 29.990000000000002], \"xaxis\": \"x\", \"y\": [-2.8518235422581313, -2.313362003796593, -1.8518235422581313, -3.557705895199308, -2.8518235422581313], \"yaxis\": \"y\"}, {\"customdata\": [[\"Douro\"], [\"Madeira\"], [\"Vinho Verde\"]], \"hovertemplate\": \"color=Portugal<br>price_per_750=%{x}<br>rating=%{y}<br>count=%{marker.size}<br>hover_data_0=%{customdata[0]}<extra></extra>\", \"legendgroup\": \"Portugal\", \"marker\": {\"color\": \"#FECB52\", \"size\": [91, 10, 1], \"sizemode\": \"area\", \"sizeref\": 0.6888888888888889, \"symbol\": \"circle\"}, \"mode\": \"markers\", \"name\": \"Portugal\", \"showlegend\": true, \"type\": \"scatter\", \"x\": [111.63736263736247, 51.79, 9.99], \"xaxis\": \"x\", \"y\": [1.4998248093902204, -3.3518235422581313, -5.851823542258131], \"yaxis\": \"y\"}, {\"customdata\": [[\"Stellenbosch\"], [\"Swartland\"]], \"hovertemplate\": \"color=South Africa<br>price_per_750=%{x}<br>rating=%{y}<br>count=%{marker.size}<br>hover_data_0=%{customdata[0]}<extra></extra>\", \"legendgroup\": \"South Africa\", \"marker\": {\"color\": \"#636efa\", \"size\": [5, 7], \"sizemode\": \"area\", \"sizeref\": 0.6888888888888889, \"symbol\": \"circle\"}, \"mode\": \"markers\", \"name\": \"South Africa\", \"showlegend\": true, \"type\": \"scatter\", \"x\": [45.99, 105.99000000000001], \"xaxis\": \"x\", \"y\": [-3.0518235422581315, -1.4232521136867027], \"yaxis\": \"y\"}, {\"customdata\": [[\"Bierzo\"], [\"Jerez\"], [\"Jumilla\"], [\"Montsant\"], [\"Navarra\"], [\"Penedes\"], [\"Priorat\"], [\"Rias Baixas\"], [\"Ribera del Duero\"], [\"Rioja\"], [\"Rueda\"], [\"Terra Alta\"], [\"Toro\"]], \"hovertemplate\": \"color=Spain<br>price_per_750=%{x}<br>rating=%{y}<br>count=%{marker.size}<br>hover_data_0=%{customdata[0]}<extra></extra>\", \"legendgroup\": \"Spain\", \"marker\": {\"color\": \"#EF553B\", \"size\": [9, 25, 2, 3, 2, 7, 16, 7, 36, 117, 3, 1, 12], \"sizemode\": \"area\", \"sizeref\": 0.6888888888888889, \"symbol\": \"circle\"}, \"mode\": \"markers\", \"name\": \"Spain\", \"showlegend\": true, \"type\": \"scatter\", \"x\": [52.21222222222222, 86.34599999999999, 17.49, 103.32333333333334, 57.489999999999995, 35.84714285714286, 88.61375000000001, 25.132857142857144, 151.26777777777772, 65.31012820512805, 17.99, 47.99, 64.99], \"xaxis\": \"x\", \"y\": [-0.5184902089247979, -1.0118235422581312, -1.8518235422581313, 3.1481764577418687, -1.3518235422581313, -3.137537827972417, -0.9143235422581313, -2.423252113686703, -0.6296013200359091, -0.6381483285829176, -3.8518235422581313, -3.8518235422581313, -0.4351568755914646], \"yaxis\": \"y\"}, {\"customdata\": [[\"California\"], [\"Oregon\"], [\"Other U.S.\"], [\"Washington\"]], \"hovertemplate\": \"color=USA<br>price_per_750=%{x}<br>rating=%{y}<br>count=%{marker.size}<br>hover_data_0=%{customdata[0]}<extra></extra>\", \"legendgroup\": \"USA\", \"marker\": {\"color\": \"#00cc96\", \"size\": [2186, 87, 1, 258], \"sizemode\": \"area\", \"sizeref\": 0.6888888888888889, \"symbol\": \"circle\"}, \"mode\": \"markers\", \"name\": \"USA\", \"showlegend\": true, \"type\": \"scatter\", \"x\": [168.4226978880697, 54.162528735632044, 15.99, 99.4377713178299], \"xaxis\": \"x\", \"y\": [-0.014220614536258386, -1.9782603238673266, -3.8518235422581313, -0.37120338721937157], \"yaxis\": \"y\"}, {\"name\": \"Regression\", \"type\": \"scatter\", \"x\": [10.061956089168262, 11.952359844870145, 13.842763600572027, 15.733167356273881, 17.623571111975778, 19.513974867677632, 21.4043786233795, 23.294782379081383, 25.18518613478325, 27.075589890485134, 28.965993646187002, 30.856397401888884, 32.74680115759075, 34.63720491329262, 36.5276086689945, 38.41801242469637, 40.308416180398254, 42.19881993610012, 44.089223691802005, 45.97962744750387, 47.87003120320574, 49.760434958907624, 51.65083871460949, 53.541242470311374, 55.43164622601324, 57.32204998171511, 59.21245373741699, 61.10285749311886, 62.993261248820744, 64.8836650045226, 66.77406876022448, 68.66447251592635, 70.55487627162823, 72.4452800273301, 74.33568378303198, 76.22608753873385, 78.11649129443572, 80.00689505013759, 81.89729880583947, 83.78770256154135, 85.67810631724322, 87.56851007294509, 89.45891382864696, 91.34931758434882, 93.2397213400507, 95.13012509575259, 97.02052885145446, 98.91093260715633, 100.8013363628582, 102.69174011856008, 104.58214387426196, 106.47254762996383, 108.3629513856657, 110.25335514136756, 112.14375889706945, 114.03416265277131, 115.9245664084732, 117.81497016417507, 119.70537391987693, 121.59577767557882, 123.48618143128068, 125.37658518698257, 127.26698894268443, 129.15739269838633, 131.04779645408817, 132.93820020979004, 134.82860396549194, 136.7190077211938, 138.60941147689567, 140.49981523259754, 142.39021898829944, 144.2806227440013, 146.17102649970317, 148.06143025540504, 149.9518340111069, 151.8422377668088, 153.73264152251068, 155.62304527821254, 157.5134490339144, 159.40385278961628, 161.29425654531815, 163.18466030102002, 165.0750640567219, 166.96546781242378, 168.85587156812565, 170.74627532382755, 172.6366790795294, 174.52708283523128, 176.41748659093315, 178.30789034663502, 180.1982941023369, 182.08869785803876, 183.97910161374065, 185.86950536944252, 187.7599091251444, 189.65031288084626, 191.54071663654813, 193.43112039225002, 195.3215241479519, 197.21192790365376], \"y\": [-5.5, -5.41919191919192, -5.338383838383838, -5.257575757575758, -5.1767676767676765, -5.095959595959596, -5.015151515151516, -4.934343434343434, -4.853535353535354, -4.7727272727272725, -4.691919191919192, -4.611111111111111, -4.53030303030303, -4.44949494949495, -4.3686868686868685, -4.287878787878788, -4.207070707070707, -4.126262626262626, -4.045454545454545, -3.9646464646464645, -3.8838383838383836, -3.8030303030303028, -3.7222222222222223, -3.641414141414141, -3.5606060606060606, -3.4797979797979797, -3.398989898989899, -3.318181818181818, -3.237373737373737, -3.1565656565656566, -3.0757575757575757, -2.994949494949495, -2.914141414141414, -2.833333333333333, -2.752525252525252, -2.6717171717171713, -2.590909090909091, -2.51010101010101, -2.429292929292929, -2.348484848484848, -2.2676767676767673, -2.1868686868686864, -2.106060606060606, -2.025252525252525, -1.9444444444444442, -1.8636363636363633, -1.7828282828282824, -1.7020202020202015, -1.621212121212121, -1.5404040404040402, -1.4595959595959593, -1.378787878787878, -1.2979797979797976, -1.2171717171717171, -1.1363636363636358, -1.0555555555555554, -0.974747474747474, -0.8939393939393936, -0.8131313131313131, -0.7323232323232318, -0.6515151515151514, -0.57070707070707, -0.4898989898989896, -0.4090909090909083, -0.32828282828282784, -0.2474747474747474, -0.16666666666666607, -0.08585858585858563, -0.005050505050504306, 0.07575757575757613, 0.15656565656565746, 0.2373737373737379, 0.31818181818181834, 0.39898989898989967, 0.4797979797979801, 0.5606060606060614, 0.6414141414141419, 0.7222222222222223, 0.8030303030303036, 0.8838383838383841, 0.9646464646464654, 1.0454545454545459, 1.1262626262626272, 1.2070707070707076, 1.287878787878788, 1.3686868686868694, 1.4494949494949498, 1.5303030303030312, 1.6111111111111116, 1.691919191919193, 1.7727272727272734, 1.8535353535353538, 1.9343434343434351, 2.0151515151515156, 2.095959595959597, 2.1767676767676774, 2.257575757575758, 2.338383838383839, 2.4191919191919196, 2.5]}],\n",
       "                        {\"legend\": {\"itemsizing\": \"constant\", \"title\": {\"text\": \"color\"}, \"tracegroupgap\": 0}, \"margin\": {\"t\": 60}, \"template\": {\"data\": {\"bar\": [{\"error_x\": {\"color\": \"#2a3f5f\"}, \"error_y\": {\"color\": \"#2a3f5f\"}, \"marker\": {\"line\": {\"color\": \"#E5ECF6\", \"width\": 0.5}}, \"type\": \"bar\"}], \"barpolar\": [{\"marker\": {\"line\": {\"color\": \"#E5ECF6\", \"width\": 0.5}}, \"type\": \"barpolar\"}], \"carpet\": [{\"aaxis\": {\"endlinecolor\": \"#2a3f5f\", \"gridcolor\": \"white\", \"linecolor\": \"white\", \"minorgridcolor\": \"white\", \"startlinecolor\": \"#2a3f5f\"}, \"baxis\": {\"endlinecolor\": \"#2a3f5f\", \"gridcolor\": \"white\", \"linecolor\": \"white\", \"minorgridcolor\": \"white\", \"startlinecolor\": \"#2a3f5f\"}, \"type\": \"carpet\"}], \"choropleth\": [{\"colorbar\": {\"outlinewidth\": 0, \"ticks\": \"\"}, \"type\": \"choropleth\"}], \"contour\": [{\"colorbar\": {\"outlinewidth\": 0, \"ticks\": \"\"}, \"colorscale\": [[0.0, \"#0d0887\"], [0.1111111111111111, \"#46039f\"], [0.2222222222222222, \"#7201a8\"], [0.3333333333333333, \"#9c179e\"], [0.4444444444444444, \"#bd3786\"], [0.5555555555555556, \"#d8576b\"], [0.6666666666666666, \"#ed7953\"], [0.7777777777777778, \"#fb9f3a\"], [0.8888888888888888, \"#fdca26\"], [1.0, \"#f0f921\"]], \"type\": \"contour\"}], \"contourcarpet\": [{\"colorbar\": {\"outlinewidth\": 0, \"ticks\": \"\"}, \"type\": \"contourcarpet\"}], \"heatmap\": [{\"colorbar\": {\"outlinewidth\": 0, \"ticks\": \"\"}, \"colorscale\": [[0.0, \"#0d0887\"], [0.1111111111111111, \"#46039f\"], [0.2222222222222222, \"#7201a8\"], [0.3333333333333333, \"#9c179e\"], [0.4444444444444444, \"#bd3786\"], [0.5555555555555556, \"#d8576b\"], [0.6666666666666666, \"#ed7953\"], [0.7777777777777778, \"#fb9f3a\"], [0.8888888888888888, \"#fdca26\"], [1.0, \"#f0f921\"]], \"type\": \"heatmap\"}], \"heatmapgl\": [{\"colorbar\": {\"outlinewidth\": 0, \"ticks\": \"\"}, \"colorscale\": [[0.0, \"#0d0887\"], [0.1111111111111111, \"#46039f\"], [0.2222222222222222, \"#7201a8\"], [0.3333333333333333, \"#9c179e\"], [0.4444444444444444, \"#bd3786\"], [0.5555555555555556, \"#d8576b\"], [0.6666666666666666, \"#ed7953\"], [0.7777777777777778, \"#fb9f3a\"], [0.8888888888888888, \"#fdca26\"], [1.0, \"#f0f921\"]], \"type\": \"heatmapgl\"}], \"histogram\": [{\"marker\": {\"colorbar\": {\"outlinewidth\": 0, \"ticks\": \"\"}}, \"type\": \"histogram\"}], \"histogram2d\": [{\"colorbar\": {\"outlinewidth\": 0, \"ticks\": \"\"}, \"colorscale\": [[0.0, \"#0d0887\"], [0.1111111111111111, \"#46039f\"], [0.2222222222222222, \"#7201a8\"], [0.3333333333333333, \"#9c179e\"], [0.4444444444444444, \"#bd3786\"], [0.5555555555555556, \"#d8576b\"], [0.6666666666666666, \"#ed7953\"], [0.7777777777777778, \"#fb9f3a\"], [0.8888888888888888, \"#fdca26\"], [1.0, \"#f0f921\"]], \"type\": \"histogram2d\"}], \"histogram2dcontour\": [{\"colorbar\": {\"outlinewidth\": 0, \"ticks\": \"\"}, \"colorscale\": [[0.0, \"#0d0887\"], [0.1111111111111111, \"#46039f\"], [0.2222222222222222, \"#7201a8\"], [0.3333333333333333, \"#9c179e\"], [0.4444444444444444, \"#bd3786\"], [0.5555555555555556, \"#d8576b\"], [0.6666666666666666, \"#ed7953\"], [0.7777777777777778, \"#fb9f3a\"], [0.8888888888888888, \"#fdca26\"], [1.0, \"#f0f921\"]], \"type\": \"histogram2dcontour\"}], \"mesh3d\": [{\"colorbar\": {\"outlinewidth\": 0, \"ticks\": \"\"}, \"type\": \"mesh3d\"}], \"parcoords\": [{\"line\": {\"colorbar\": {\"outlinewidth\": 0, \"ticks\": \"\"}}, \"type\": \"parcoords\"}], \"pie\": [{\"automargin\": true, \"type\": \"pie\"}], \"scatter\": [{\"marker\": {\"colorbar\": {\"outlinewidth\": 0, \"ticks\": \"\"}}, \"type\": \"scatter\"}], \"scatter3d\": [{\"line\": {\"colorbar\": {\"outlinewidth\": 0, \"ticks\": \"\"}}, \"marker\": {\"colorbar\": {\"outlinewidth\": 0, \"ticks\": \"\"}}, \"type\": \"scatter3d\"}], \"scattercarpet\": [{\"marker\": {\"colorbar\": {\"outlinewidth\": 0, \"ticks\": \"\"}}, \"type\": \"scattercarpet\"}], \"scattergeo\": [{\"marker\": {\"colorbar\": {\"outlinewidth\": 0, \"ticks\": \"\"}}, \"type\": \"scattergeo\"}], \"scattergl\": [{\"marker\": {\"colorbar\": {\"outlinewidth\": 0, \"ticks\": \"\"}}, \"type\": \"scattergl\"}], \"scattermapbox\": [{\"marker\": {\"colorbar\": {\"outlinewidth\": 0, \"ticks\": \"\"}}, \"type\": \"scattermapbox\"}], \"scatterpolar\": [{\"marker\": {\"colorbar\": {\"outlinewidth\": 0, \"ticks\": \"\"}}, \"type\": \"scatterpolar\"}], \"scatterpolargl\": [{\"marker\": {\"colorbar\": {\"outlinewidth\": 0, \"ticks\": \"\"}}, \"type\": \"scatterpolargl\"}], \"scatterternary\": [{\"marker\": {\"colorbar\": {\"outlinewidth\": 0, \"ticks\": \"\"}}, \"type\": \"scatterternary\"}], \"surface\": [{\"colorbar\": {\"outlinewidth\": 0, \"ticks\": \"\"}, \"colorscale\": [[0.0, \"#0d0887\"], [0.1111111111111111, \"#46039f\"], [0.2222222222222222, \"#7201a8\"], [0.3333333333333333, \"#9c179e\"], [0.4444444444444444, \"#bd3786\"], [0.5555555555555556, \"#d8576b\"], [0.6666666666666666, \"#ed7953\"], [0.7777777777777778, \"#fb9f3a\"], [0.8888888888888888, \"#fdca26\"], [1.0, \"#f0f921\"]], \"type\": \"surface\"}], \"table\": [{\"cells\": {\"fill\": {\"color\": \"#EBF0F8\"}, \"line\": {\"color\": \"white\"}}, \"header\": {\"fill\": {\"color\": \"#C8D4E3\"}, \"line\": {\"color\": \"white\"}}, \"type\": \"table\"}]}, \"layout\": {\"annotationdefaults\": {\"arrowcolor\": \"#2a3f5f\", \"arrowhead\": 0, \"arrowwidth\": 1}, \"coloraxis\": {\"colorbar\": {\"outlinewidth\": 0, \"ticks\": \"\"}}, \"colorscale\": {\"diverging\": [[0, \"#8e0152\"], [0.1, \"#c51b7d\"], [0.2, \"#de77ae\"], [0.3, \"#f1b6da\"], [0.4, \"#fde0ef\"], [0.5, \"#f7f7f7\"], [0.6, \"#e6f5d0\"], [0.7, \"#b8e186\"], [0.8, \"#7fbc41\"], [0.9, \"#4d9221\"], [1, \"#276419\"]], \"sequential\": [[0.0, \"#0d0887\"], [0.1111111111111111, \"#46039f\"], [0.2222222222222222, \"#7201a8\"], [0.3333333333333333, \"#9c179e\"], [0.4444444444444444, \"#bd3786\"], [0.5555555555555556, \"#d8576b\"], [0.6666666666666666, \"#ed7953\"], [0.7777777777777778, \"#fb9f3a\"], [0.8888888888888888, \"#fdca26\"], [1.0, \"#f0f921\"]], \"sequentialminus\": [[0.0, \"#0d0887\"], [0.1111111111111111, \"#46039f\"], [0.2222222222222222, \"#7201a8\"], [0.3333333333333333, \"#9c179e\"], [0.4444444444444444, \"#bd3786\"], [0.5555555555555556, \"#d8576b\"], [0.6666666666666666, \"#ed7953\"], [0.7777777777777778, \"#fb9f3a\"], [0.8888888888888888, \"#fdca26\"], [1.0, \"#f0f921\"]]}, \"colorway\": [\"#636efa\", \"#EF553B\", \"#00cc96\", \"#ab63fa\", \"#FFA15A\", \"#19d3f3\", \"#FF6692\", \"#B6E880\", \"#FF97FF\", \"#FECB52\"], \"font\": {\"color\": \"#2a3f5f\"}, \"geo\": {\"bgcolor\": \"white\", \"lakecolor\": \"white\", \"landcolor\": \"#E5ECF6\", \"showlakes\": true, \"showland\": true, \"subunitcolor\": \"white\"}, \"hoverlabel\": {\"align\": \"left\"}, \"hovermode\": \"closest\", \"mapbox\": {\"style\": \"light\"}, \"paper_bgcolor\": \"white\", \"plot_bgcolor\": \"#E5ECF6\", \"polar\": {\"angularaxis\": {\"gridcolor\": \"white\", \"linecolor\": \"white\", \"ticks\": \"\"}, \"bgcolor\": \"#E5ECF6\", \"radialaxis\": {\"gridcolor\": \"white\", \"linecolor\": \"white\", \"ticks\": \"\"}}, \"scene\": {\"xaxis\": {\"backgroundcolor\": \"#E5ECF6\", \"gridcolor\": \"white\", \"gridwidth\": 2, \"linecolor\": \"white\", \"showbackground\": true, \"ticks\": \"\", \"zerolinecolor\": \"white\"}, \"yaxis\": {\"backgroundcolor\": \"#E5ECF6\", \"gridcolor\": \"white\", \"gridwidth\": 2, \"linecolor\": \"white\", \"showbackground\": true, \"ticks\": \"\", \"zerolinecolor\": \"white\"}, \"zaxis\": {\"backgroundcolor\": \"#E5ECF6\", \"gridcolor\": \"white\", \"gridwidth\": 2, \"linecolor\": \"white\", \"showbackground\": true, \"ticks\": \"\", \"zerolinecolor\": \"white\"}}, \"shapedefaults\": {\"line\": {\"color\": \"#2a3f5f\"}}, \"ternary\": {\"aaxis\": {\"gridcolor\": \"white\", \"linecolor\": \"white\", \"ticks\": \"\"}, \"baxis\": {\"gridcolor\": \"white\", \"linecolor\": \"white\", \"ticks\": \"\"}, \"bgcolor\": \"#E5ECF6\", \"caxis\": {\"gridcolor\": \"white\", \"linecolor\": \"white\", \"ticks\": \"\"}}, \"title\": {\"x\": 0.05}, \"xaxis\": {\"automargin\": true, \"gridcolor\": \"white\", \"linecolor\": \"white\", \"ticks\": \"\", \"title\": {\"standoff\": 15}, \"zerolinecolor\": \"white\", \"zerolinewidth\": 2}, \"yaxis\": {\"automargin\": true, \"gridcolor\": \"white\", \"linecolor\": \"white\", \"ticks\": \"\", \"title\": {\"standoff\": 15}, \"zerolinecolor\": \"white\", \"zerolinewidth\": 2}}}, \"title\": {\"text\": \"Rating vs Price by Region\"}, \"xaxis\": {\"anchor\": \"y\", \"domain\": [0.0, 1.0], \"title\": {\"text\": \"price for 750ml\"}}, \"yaxis\": {\"anchor\": \"x\", \"domain\": [0.0, 1.0], \"title\": {\"text\": \"rating\"}}},\n",
       "                        {\"responsive\": true}\n",
       "                    ).then(function(){\n",
       "                            \n",
       "var gd = document.getElementById('c9a4ed28-ccea-4d5f-917a-2968f01ae5ce');\n",
       "var x = new MutationObserver(function (mutations, observer) {{\n",
       "        var display = window.getComputedStyle(gd).display;\n",
       "        if (!display || display === 'none') {{\n",
       "            console.log([gd, 'removed!']);\n",
       "            Plotly.purge(gd);\n",
       "            observer.disconnect();\n",
       "        }}\n",
       "}});\n",
       "\n",
       "// Listen for the removal of the full notebook cells\n",
       "var notebookContainer = gd.closest('#notebook-container');\n",
       "if (notebookContainer) {{\n",
       "    x.observe(notebookContainer, {childList: true});\n",
       "}}\n",
       "\n",
       "// Listen for the clearing of the current output cell\n",
       "var outputEl = gd.closest('.output');\n",
       "if (outputEl) {{\n",
       "    x.observe(outputEl, {childList: true});\n",
       "}}\n",
       "\n",
       "                        })\n",
       "                };\n",
       "                });\n",
       "            </script>\n",
       "        </div>"
      ]
     },
     "metadata": {},
     "output_type": "display_data"
    }
   ],
   "source": [
    "# First let's do a price vs. rating linear regression across all wines\n",
    "X = wine['rating'].to_numpy()\n",
    "Y = wine['price_per_750'].to_numpy()\n",
    "beta_0 = Y.mean()\n",
    "Y = Y - beta_0\n",
    "beta = X.T @ Y / (X.T @ X)\n",
    "reg_line_y = np.linspace(-5.5, 2.5, 100)\n",
    "reg_line_x = beta_0 + beta * reg_line_y\n",
    "\n",
    "# Now let's group by region and plot the graph\n",
    "reg_wine = wine.groupby(['country', 'subregion']).agg({'price_per_750': 'mean', 'rating': 'mean', 'name': 'count'})\n",
    "reg_wine.columns = reg_wine.columns.str.replace('name', 'count')\n",
    "fig = px.scatter(reg_wine, x = 'price_per_750', y='rating',hover_data=[reg_wine.index.get_level_values(1)],\n",
    "                 color=reg_wine.index.get_level_values(0), size='count', size_max=60)\n",
    "fig.add_scatter(x = reg_line_x, y= reg_line_y, name='Regression')\n",
    "fig.update_layout(\n",
    "    title='Rating vs Price by Region',\n",
    "    xaxis_title='price for 750ml')\n",
    "fig.show()"
   ]
  }
 ],
 "metadata": {
  "kernelspec": {
   "display_name": "Python 3",
   "language": "python",
   "name": "python3"
  },
  "language_info": {
   "codemirror_mode": {
    "name": "ipython",
    "version": 3
   },
   "file_extension": ".py",
   "mimetype": "text/x-python",
   "name": "python",
   "nbconvert_exporter": "python",
   "pygments_lexer": "ipython3",
   "version": "3.8.2"
  }
 },
 "nbformat": 4,
 "nbformat_minor": 4
}
