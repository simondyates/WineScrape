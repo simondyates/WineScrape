{
 "cells": [
  {
   "cell_type": "code",
   "execution_count": 1,
   "metadata": {},
   "outputs": [
    {
     "data": {
      "text/html": [
       "<script>\n",
       "code_show=true; \n",
       "function code_toggle() {\n",
       " if (code_show){\n",
       " $('div.input').hide();\n",
       " } else {\n",
       " $('div.input').show();\n",
       " }\n",
       " code_show = !code_show\n",
       "} \n",
       "$( document ).ready(code_toggle);\n",
       "</script>\n",
       "<form action=\"javascript:code_toggle()\"><input type=\"submit\" value=\"Show/Hide Code\"></form>"
      ],
      "text/plain": [
       "<IPython.core.display.HTML object>"
      ]
     },
     "execution_count": 1,
     "metadata": {},
     "output_type": "execute_result"
    }
   ],
   "source": [
    "from IPython.display import HTML\n",
    "\n",
    "HTML('''<script>\n",
    "code_show=true; \n",
    "function code_toggle() {\n",
    " if (code_show){\n",
    " $('div.input').hide();\n",
    " } else {\n",
    " $('div.input').show();\n",
    " }\n",
    " code_show = !code_show\n",
    "} \n",
    "$( document ).ready(code_toggle);\n",
    "</script>\n",
    "<form action=\"javascript:code_toggle()\"><input type=\"submit\" value=\"Show/Hide Code\"></form>''')"
   ]
  },
  {
   "cell_type": "code",
   "execution_count": 2,
   "metadata": {},
   "outputs": [],
   "source": [
    "import numpy as np\n",
    "import pandas as pd\n",
    "from ipywidgets import widgets, interact\n",
    "d_path = '~/Dropbox/DataSci/PycharmProjects/WineScrape/'\n",
    "# MUST CHANGE THIS WHEN MOVING TO GitHub\n",
    "wine = pd.read_csv(d_path + 'wdc_cleaned.csv')\n",
    "\n",
    "# I only want wine I can get today so let's exclude futures\n",
    "wine = wine[wine['notes'] != 'Futures Pre-Sale']\n",
    "\n",
    "# now let's remove duplicates: only keep the cheapest of each (nameyear, rating)\n",
    "wine['id'] = wine['nameyear'] + str(wine['rating']) # + wine['rater'] - can't decide whether to add this\n",
    "wine = wine.sort_values(by=['id', 'price_per_750'])\n",
    "wine['duplicate'] = (wine['id'] == wine['id'].shift())\n",
    "wine = wine[~wine['duplicate']]\n",
    "wine = wine.drop(['id', 'duplicate'], axis = 1)\n",
    "\n",
    "# I've also decided to drop wine.com and Wine&Spirits from the list of reviewers\n",
    "# due to high correlation with price\n",
    "wine = wine[~wine['rater'].isin(['wine.com', 'Wine & Spirits'])]"
   ]
  },
  {
   "cell_type": "markdown",
   "metadata": {},
   "source": [
    "## Top 12 Best Value for Fixed Cost\n"
   ]
  },
  {
   "cell_type": "code",
   "execution_count": 3,
   "metadata": {},
   "outputs": [
    {
     "data": {
      "application/vnd.jupyter.widget-view+json": {
       "model_id": "baedc685f19c49a4a8c636dc81bbc764",
       "version_major": 2,
       "version_minor": 0
      },
      "text/plain": [
       "interactive(children=(Dropdown(description='Max Price:', index=2, options=(('$10', 10), ('$20', 20), ('$30', 3…"
      ]
     },
     "metadata": {},
     "output_type": "display_data"
    }
   ],
   "source": [
    "def best_at_price(max_cost):\n",
    "    # return the highest rated, lowest priced wines\n",
    "    wine['price_inv'] = wine['price_per_750']**(-1)\n",
    "    wine_sel = wine[wine['price_per_750']<=max_cost].sort_values(by=['rating', 'price_inv'], ascending=False).iloc[: 12]\n",
    "    print('-'*75)\n",
    "    print(f'Highest rated wines below ${max_cost} per bottle:')\n",
    "    print('.'*75)\n",
    "    for row in wine_sel.index:\n",
    "        prt_str = '{0}, {1} for ${2:.2f}, rated {3} by {4}'\n",
    "        print(prt_str.format(wine_sel.loc[row, 'nameyear'], wine_sel.loc[row, 'country'], \n",
    "                             wine_sel.loc[row, 'price_per_750'], wine_sel.loc[row, 'rating'], \n",
    "                             wine_sel.loc[row, 'rater']))\n",
    "    print('-'*75)\n",
    "\n",
    "costs = [10, 20, 30, 40, 50, 75, 100, 250, 5000]\n",
    "cost_w = widgets.Dropdown(\n",
    "    description='Max Price:',\n",
    "    options=[(f'${i}',i) for i in costs],\n",
    "    value=30   \n",
    ")\n",
    "_ = interact(best_at_price, max_cost=cost_w)"
   ]
  },
  {
   "cell_type": "markdown",
   "metadata": {},
   "source": [
    "## Top 12 Cheapest Wines for Fixed Rating\n"
   ]
  },
  {
   "cell_type": "code",
   "execution_count": 4,
   "metadata": {},
   "outputs": [
    {
     "data": {
      "application/vnd.jupyter.widget-view+json": {
       "model_id": "32d18aa254954313a970f802411d1047",
       "version_major": 2,
       "version_minor": 0
      },
      "text/plain": [
       "interactive(children=(Dropdown(description='Min Rating:', index=2, options=(88, 89, 90, 91, 92, 93, 94, 95, 96…"
      ]
     },
     "metadata": {},
     "output_type": "display_data"
    }
   ],
   "source": [
    "def cheap_at_rating(rat):\n",
    "    wine_sel = wine[wine['rating']>=rat].sort_values(by=['price_per_750']).iloc[: 12]\n",
    "    print('-'*75)\n",
    "    print(f'Cheapest wines rated at least {rat} per bottle:')\n",
    "    print('.'*75)\n",
    "    for row in wine_sel.index:\n",
    "        prt_str = '{0}, {1} for ${2:.2f}, rated {3} by {4}'\n",
    "        print(prt_str.format(wine_sel.loc[row, 'nameyear'], wine_sel.loc[row, 'country'], \n",
    "                             wine_sel.loc[row, 'price_per_750'], wine_sel.loc[row, 'rating'], \n",
    "                             wine_sel.loc[row, 'rater']))\n",
    "    print('-'*75)\n",
    "\n",
    "ratings = list(range(wine['rating'].min(),101))\n",
    "rat_w = widgets.Dropdown(\n",
    "    description='Min Rating:',\n",
    "    options=ratings,\n",
    "    value=90   \n",
    ")\n",
    "_ = interact(cheap_at_rating, rat=rat_w)"
   ]
  },
  {
   "cell_type": "markdown",
   "metadata": {},
   "source": [
    "## Top 12 Best Value Score per Region\n",
    "\n",
    "I define 'value' as rating difference from average, divided by price"
   ]
  },
  {
   "cell_type": "code",
   "execution_count": 5,
   "metadata": {},
   "outputs": [
    {
     "data": {
      "application/vnd.jupyter.widget-view+json": {
       "model_id": "bd3cca52f2d5472bb6f61034e5672abd",
       "version_major": 2,
       "version_minor": 0
      },
      "text/plain": [
       "interactive(children=(Dropdown(description='Country:', options=('All', 'USA', 'Italy', 'Argentina', 'France', …"
      ]
     },
     "metadata": {},
     "output_type": "display_data"
    }
   ],
   "source": [
    "wine['value_idx'] = (wine['rating'] - wine['rating'].mean()) / wine['price_per_750']\n",
    "\n",
    "def subregion_list(ctry):\n",
    "    temp_s = wine[wine['country']==ctry]['subregion']\n",
    "    temp_s = temp_s[~temp_s.isnull()]\n",
    "    return temp_s.unique().tolist()\n",
    "\n",
    "def update_sub_w(change):\n",
    "    if ctry_w.value == 'All':\n",
    "        sub_w.options = ['All']\n",
    "    else:\n",
    "        sub_w.options = ['All'] + subregion_list(ctry_w.value)\n",
    "    best_in_regn(change, change)\n",
    "    \n",
    "def best_in_regn(ctry, subr):\n",
    "    if ctry_w.value == 'All':\n",
    "        wine_sel = wine\n",
    "    else: \n",
    "        if sub_w.value == 'All':\n",
    "            wine_sel = wine[wine['country']==ctry_w.value]\n",
    "        else:\n",
    "            wine_sel = wine[(wine['country']==ctry_w.value) & (wine['subregion']==sub_w.value)]\n",
    "    wine_sel = wine_sel.sort_values(by=['value_idx'], ascending=False).iloc[: 12]\n",
    "    print('-'*75)\n",
    "    print(f'Best value wines from {ctry_w.value}, {sub_w.value}:')\n",
    "    print('.'*75)\n",
    "    for row in wine_sel.index:\n",
    "        prt_str = '{0}, {1} for ${2:.2f}, rated {3} by {4}'\n",
    "        print(prt_str.format(wine_sel.loc[row, 'nameyear'], wine_sel.loc[row, 'country'], \n",
    "                             wine_sel.loc[row, 'price_per_750'], wine_sel.loc[row, 'rating'], \n",
    "                             wine_sel.loc[row, 'rater']))\n",
    "    print('-'*75)\n",
    "\n",
    "ctry_w = widgets.Dropdown(\n",
    "    description='Country:',\n",
    "    options=['All'] + wine['country'].unique().tolist(),\n",
    "    value='All'\n",
    ")\n",
    "sub_w = widgets.Dropdown(\n",
    "    description='Region:',\n",
    "    options=['All'],\n",
    "    value='All'   \n",
    ")\n",
    "ctry_w.observe(update_sub_w, 'value')\n",
    "_ = interact(best_in_regn, ctry=ctry_w, subr=sub_w)"
   ]
  },
  {
   "cell_type": "code",
   "execution_count": null,
   "metadata": {},
   "outputs": [],
   "source": []
  }
 ],
 "metadata": {
  "kernelspec": {
   "display_name": "Python 3",
   "language": "python",
   "name": "python3"
  },
  "language_info": {
   "codemirror_mode": {
    "name": "ipython",
    "version": 3
   },
   "file_extension": ".py",
   "mimetype": "text/x-python",
   "name": "python",
   "nbconvert_exporter": "python",
   "pygments_lexer": "ipython3",
   "version": "3.8.2"
  }
 },
 "nbformat": 4,
 "nbformat_minor": 4
}
